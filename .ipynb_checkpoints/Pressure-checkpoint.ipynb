{
 "cells": [
  {
   "cell_type": "code",
   "execution_count": 1,
   "id": "027ade02-dbd4-42e6-9dc7-28f77f7f8339",
   "metadata": {},
   "outputs": [],
   "source": [
    "import numpy as np\n",
    "from dataclasses import dataclass\n",
    "import math\n",
    "from typing import Literal, List\n",
    "import gsw "
   ]
  },
  {
   "cell_type": "code",
   "execution_count": 2,
   "id": "a0648436-9a55-451a-a7cc-2a900e96f792",
   "metadata": {},
   "outputs": [],
   "source": [
    "class PressureCoefficients:\n",
    "    C1: float\n",
    "    C2: float\n",
    "    C3: float\n",
    "    D1: float\n",
    "    D2: float\n",
    "    T1: float\n",
    "    T2: float\n",
    "    T3: float\n",
    "    T4: float\n",
    "    T5: float\n",
    "    Slope: float\n",
    "    Offset: float\n",
    "    AD590M: float\n",
    "    AD590B: float\n",
    "    \n",
    "pres_coefs = PressureCoefficients()\n",
    "pres_coefs.C1 = -4.212464e+004\n",
    "pres_coefs.C2 = -1.972709e-001\n",
    "pres_coefs.C3 = 1.365930e-002\n",
    "\n",
    "pres_coefs.D1 = 3.604100e-002\n",
    "pres_coefs.D2 = 0.000000e+000\n",
    "\n",
    "pres_coefs.T1 = 3.046128e+001\n",
    "pres_coefs.T2 = -3.791930e-004\n",
    "pres_coefs.T3 = 4.202260e-006\n",
    "pres_coefs.T4 = 3.386190e-009\n",
    "pres_coefs.T5 = 0.000000e+000\n",
    "\n",
    "pres_coefs.Slope = 1.00000000\n",
    "pres_coefs.Offset = -0.20000\n",
    "pres_coefs.AD590M = 1.279410e-002\n",
    "pres_coefs.AD590B = -9.215740e+000\n",
    "\n",
    "hexstrings = [\n",
    "    \"0CD08410767B80458F0CCA6F1107AE7D58A3987C41F0DEF2FFFFBE0000BB29512A089DB7004D638E5C91C465\",\n",
    "    \"0CD0811076768045960CCA6F1107B27D48A3986C40F0DEF2FFFFBD0000BB29512A089DB7004D638F5C91C465\",\n",
    "    \"0CD08710767B8045960CCA6D1107B17D48A3986C40F10EF0FFFFBE0000BB29512A089DB7004D63905D91C465\",\n",
    "    \"0CD08710767A80458F0CCA6C1107AE7D58A3986C3FF16EE7FFFFBE0000BB29512A089DB7004D63915D91C465\",\n",
    "    \"0CD08A10767680459E0CCA6F1107B27D58A3987C40F18EE3FFFFBE0000BB29512A089DB7004D63925D91C465\",\n",
    "    \"0CD08410767A8045960CCA6C1107B17D58A3988C41F18EE3FFFFBE0000BB29512A089DB7004D63935D91C465\",\n",
    "    \"0CD0811076798045960CCA6A1107B17D58A498AC41F18EE1FFFFBE0000BB29512A089DB7004D63945D91C465\",\n",
    "    \"0CD08410767C80458F0CCA6A1107B07D48A398BC40F15ED4FFFFBE0000BB29512A089DB7004D63955D91C465\",\n",
    "    \"0CD08710767A8045960CCA6F1107B17D48A498CC41F13ECEFFFFBE0000BB29512A089DB7004D63965D91C465\",\n",
    "    \"0CD08110767980459D0CCA6F1107B07D48A398DC41F13ECEFFFFBD0000BB29512A089DB7004D63975D91C465\"\n",
    "]\n",
    "bytes_list_array = [[hex_string[i:i+2] for i in range(0, len(hex_string), 2)] for hex_string in hexstrings]"
   ]
  },
  {
   "cell_type": "code",
   "execution_count": 3,
   "id": "17eb9dc0-cf47-4aea-b250-4a5bbfdca2d8",
   "metadata": {},
   "outputs": [],
   "source": [
    "def pressure_from_frequency(pressure_period: np.ndarray, temp_counts: np.ndarray, coefs: PressureCoefficients):\n",
    "    \"\"\"\n",
    "    Berechnet den Druck [dbar] aus Digiquartz-Frequenz und Temperaturfrequenz (arrays erlaubt).\n",
    "\n",
    "    :param freq_hz: gemessene Druckfrequenz [Hz]\n",
    "    :param temp_freq_hz: gemessene Temperaturfrequenz [Hz]\n",
    "    :param coefs: PressureCoefficients\n",
    "    :return: Druck in dbar\n",
    "    \"\"\"\n",
    "\n",
    "    U = coefs.AD590M * temp_counts + coefs.AD590B\n",
    "    print(\"U:\", U)\n",
    "    C = coefs.C1 + coefs.C2 * U + coefs.C3 * U **2\n",
    "    D = coefs.D1 + coefs.D2 * U\n",
    "    T0 = (\n",
    "        coefs.T1 \n",
    "        + coefs.T2 * U \n",
    "        + coefs.T3 * U **2 \n",
    "        + coefs.T4 * U **3 \n",
    "        + coefs.T5 * U **4\n",
    "    )\n",
    "    \n",
    "    T = pressure_period\n",
    "    print(\"T:\", T)\n",
    "    pressure = C * (1 - (T0**2/T**2)) * (1 - D * (1 -(T0**2/T**2)))\n",
    "    pressure = pressure * coefs.Slope + coefs.Offset\n",
    "    return pressure\n"
   ]
  },
  {
   "cell_type": "code",
   "execution_count": 4,
   "id": "cd58e130-1f02-411c-9218-e4dc60df6607",
   "metadata": {},
   "outputs": [
    {
     "name": "stdout",
     "output_type": "stream",
     "text": [
      "[32837.55859375 32837.5859375  32837.5859375  32837.55859375\n",
      " 32837.6171875  32837.5859375  32837.5859375  32837.55859375\n",
      " 32837.5859375  32837.61328125]\n",
      "[30.45293386 30.4529085  30.4529085  30.45293386 30.45287952 30.4529085\n",
      " 30.4529085  30.45293386 30.4529085  30.45288314]\n",
      "U: [6.6233558 6.6233558 6.6233558 6.6233558 6.6233558 6.6233558 6.6233558\n",
      " 6.6233558 6.6233558 6.6233558]\n",
      "T: [30.45293386 30.4529085  30.4529085  30.45293386 30.45287952 30.4529085\n",
      " 30.4529085  30.45293386 30.4529085  30.45288314]\n",
      "Druck in psi [16.45657584 16.52676095 16.52676095 16.45657584 16.60697258 16.52676095\n",
      " 16.52676095 16.45657584 16.52676095 16.59694612] gewünscht: 1.667\n",
      "Druck in dbar: [11.34641408 11.39480503 11.39480503 11.34641408 11.45010903 11.39480503\n",
      " 11.39480503 11.34641408 11.39480503 11.44319603] gewünscht: 1.149\n"
     ]
    }
   ],
   "source": [
    "pressure_counts = []\n",
    "\n",
    "for byte_list in bytes_list_array:\n",
    "    count = int(byte_list[6], 16) * 256 + int(byte_list[7], 16) + int(byte_list[8], 16) / 256\n",
    "    count = count\n",
    "    pressure_counts.append(count)\n",
    "\n",
    "pressure_counts = np.array(pressure_counts)\n",
    "\n",
    "print(pressure_counts)\n",
    "temperature_counts = []\n",
    "\n",
    "for hex_string in hexstrings:\n",
    "    temperature_value = int(hex_string[74:77],16)\n",
    "    temperature_counts.append(temperature_value)\n",
    "\n",
    "temperature_counts = np.array(temperature_counts)\n",
    "\n",
    "\n",
    "\n",
    "\n",
    "press_periode = 1/ pressure_counts\n",
    "\n",
    "press_periode = press_periode * 10**6\n",
    "# Periode zwischen den Messungen\n",
    "print(press_periode)\n",
    "\n",
    "pressure = pressure_from_frequency(press_periode, temperature_counts, coefs=pres_coefs)\n",
    "\n",
    "\n",
    "print(\"Druck in psi\", pressure, \"gewünscht: 1.667\")\n",
    "pressure = pressure * 0.689476 # Druck von psia zu db laut seabird\n",
    "\n",
    "print(\"Druck in dbar:\", pressure, \"gewünscht: 1.149\")"
   ]
  },
  {
   "cell_type": "code",
   "execution_count": 5,
   "id": "7212c4ab-f325-4137-a122-c1a5171006fb",
   "metadata": {},
   "outputs": [
    {
     "ename": "SyntaxError",
     "evalue": "invalid syntax. Perhaps you forgot a comma? (2046343579.py, line 1)",
     "output_type": "error",
     "traceback": [
      "  \u001b[36mCell\u001b[39m\u001b[36m \u001b[39m\u001b[32mIn[5]\u001b[39m\u001b[32m, line 1\u001b[39m\n\u001b[31m    \u001b[39m\u001b[31m[32837.55859375 32837.5859375  32837.5859375  32837.55859375\u001b[39m\n     ^\n\u001b[31mSyntaxError\u001b[39m\u001b[31m:\u001b[39m invalid syntax. Perhaps you forgot a comma?\n"
     ]
    }
   ],
   "source": [
    "[32837.55859375 32837.5859375  32837.5859375  32837.55859375\n",
    " 32837.6171875  32837.5859375  32837.5859375  32837.55859375\n",
    " 32837.5859375  32837.61328125]\n",
    "[30.45293386 30.4529085  30.4529085  30.45293386 30.45287952 30.4529085\n",
    " 30.4529085  30.45293386 30.4529085  30.45288314]\n",
    "[6.6233558 6.6233558 6.6233558 6.6233558 6.6233558 6.6233558 6.6233558\n",
    " 6.6233558 6.6233558 6.6233558]\n",
    "Druck in psi [16.51868064 16.58886575 16.58886575 16.51868064 16.66907738 16.58886575\n",
    " 16.58886575 16.51868064 16.58886575 16.65905092] gewünscht: 1.667\n",
    "Druck in dbar: [11.38923385 11.4376248  11.4376248  11.38923385 11.4929288  11.4376248\n",
    " 11.4376248  11.38923385 11.4376248  11.4860158 ] gewünscht: 1.149"
   ]
  }
 ],
 "metadata": {
  "kernelspec": {
   "display_name": "Python 3 (ipykernel)",
   "language": "python",
   "name": "python3"
  },
  "language_info": {
   "codemirror_mode": {
    "name": "ipython",
    "version": 3
   },
   "file_extension": ".py",
   "mimetype": "text/x-python",
   "name": "python",
   "nbconvert_exporter": "python",
   "pygments_lexer": "ipython3",
   "version": "3.13.3"
  }
 },
 "nbformat": 4,
 "nbformat_minor": 5
}
