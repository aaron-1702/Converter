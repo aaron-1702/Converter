{
 "cells": [
  {
   "cell_type": "code",
   "execution_count": 1,
   "id": "7c95907e-cb25-4702-9674-27bb7d747713",
   "metadata": {},
   "outputs": [],
   "source": [
    "import numpy as np\n",
    "from dataclasses import dataclass\n",
    "import math\n",
    "from typing import Literal, List\n",
    "import gsw  # TEOS-10 library (for salinity)\n",
    "from datetime import datetime, timezone"
   ]
  },
  {
   "cell_type": "code",
   "execution_count": 2,
   "id": "c95bad6e-1264-41bd-8ae4-82d6655868c7",
   "metadata": {},
   "outputs": [],
   "source": [
    "from constants import *\n",
    "from calibration_coefficients import *\n",
    "from conversion_functions import *\n",
    "from hexstrings import *"
   ]
  },
  {
   "cell_type": "code",
   "execution_count": 3,
   "id": "3bc05491-cb85-4d7d-9897-d0414487d746",
   "metadata": {},
   "outputs": [],
   "source": [
    "hexstrings = load_hexstrings_simple(\"basic_emb.hex\")\n",
    "bytes_list_array = [[hex_string[i:i+2] for i in range(0, len(hex_string), 2)] for hex_string in hexstrings]"
   ]
  },
  {
   "cell_type": "code",
   "execution_count": 4,
   "id": "42e4598f-8bb3-4907-b095-2937793bd32a",
   "metadata": {},
   "outputs": [],
   "source": [
    "load_header_hex(\"basic_emb.hex\")\n",
    "load_header_XMLCON(\"basic_emb.XMLCON\")"
   ]
  },
  {
   "cell_type": "code",
   "execution_count": 5,
   "id": "bea5f418-2f34-4a1d-9a6f-d8df02b29e16",
   "metadata": {},
   "outputs": [],
   "source": [
    "def temperature(byte_array, index1, index2, index3, coefs):\n",
    "    F0 = 1000\n",
    "    temperature_counts = []\n",
    "    for byte_list in byte_array:\n",
    "        count = int(byte_list[index1], 16) * 256 + int(byte_list[index2], 16) + int(byte_list[index3], 16) / 256\n",
    "        temperature_counts.append(count)\n",
    "    temperature_counts = np.array(temperature_counts)\n",
    "    temperature_counts = F0 / temperature_counts\n",
    "    \n",
    "    temperatures = convert_temperature(temperature_counts, coefs=coefs)\n",
    "    return temperatures"
   ]
  },
  {
   "cell_type": "code",
   "execution_count": 6,
   "id": "df64c3db-5d24-4b0a-9491-469d4e958eac",
   "metadata": {},
   "outputs": [],
   "source": [
    "def pressure(byte_array, index1, index2, index3, start_idx, end_idx, coefs):\n",
    "    pressure_counts = []\n",
    "    for byte_list in byte_array:\n",
    "        count = int(byte_list[index1], 16) * 256 + int(byte_list[index2], 16) + int(byte_list[index3], 16) / 256\n",
    "        pressure_counts.append(count)\n",
    "    pressure_counts = np.array(pressure_counts)\n",
    "\n",
    "    temperature_counts = []\n",
    "    for hex_string in hexstrings:\n",
    "        temperature_value = int(hex_string[start_idx:end_idx],16)\n",
    "        temperature_counts.append(temperature_value)\n",
    "    temperature_counts = np.array(temperature_counts)\n",
    "    \n",
    "    pressure = pressure_from_frequency(pressure_counts, temperature_counts, coefs=coefs)\n",
    "    return pressure"
   ]
  },
  {
   "cell_type": "code",
   "execution_count": 7,
   "id": "b01a875e-8a4b-40c7-b2d3-cdc225fe3dd0",
   "metadata": {},
   "outputs": [],
   "source": [
    "def conductivity(byte_array,temperatures, pressure, index1, index2, index3, coefs):\n",
    "    conductivity_counts = []\n",
    "    for byte_list in byte_array:\n",
    "        count = int(byte_list[index1], 16) * 256 + int(byte_list[index2], 16) + int(byte_list[index3], 16) / 256\n",
    "        conductivity_counts.append(count)\n",
    "    conductivity_counts = np.array(conductivity_counts)\n",
    "\n",
    "    conductifitys = convert_conductivity(conductivity_counts, temperatures, pressure, coefs=coefs)\n",
    "    return conductifitys"
   ]
  },
  {
   "cell_type": "code",
   "execution_count": 8,
   "id": "aa3efc08-e45f-4f93-b061-76d87fac460a",
   "metadata": {},
   "outputs": [],
   "source": [
    "def salinity(conductifitys, temperatures, pressure):\n",
    "    salinitys = gsw.SP_from_C(conductifitys, temperatures, pressure)\n",
    "    return salinitys"
   ]
  },
  {
   "cell_type": "code",
   "execution_count": 9,
   "id": "2e432394-e3f6-4b93-90e1-e57c55bf5c2c",
   "metadata": {},
   "outputs": [],
   "source": [
    "def oxygen(temperatures, pressure, salinitys, start_idx, end_idx, coefs, units = \"ml/l\"):\n",
    "    voltages = []\n",
    "    for hex_string in hexstrings:\n",
    "        v = hex_to_voltage(hex_string[start_idx:end_idx])\n",
    "        voltages.append(v)\n",
    "    voltages = np.array(voltages)\n",
    "\n",
    "    oxygens = convert_sbe43_oxygen(voltages, temperatures, pressure, salinitys, coefs=coefs)\n",
    "    \n",
    "    if units == \"umol/kg\":\n",
    "        potential_densitys = potential_density_from_t_s_p(temperatures,salinitys,pressure)\n",
    "        oxygens = convert_oxygen_to_umol_per_kg(oxygens, potential_densitys) *1000\n",
    "    \n",
    "    return oxygens"
   ]
  },
  {
   "cell_type": "code",
   "execution_count": 10,
   "id": "58b2170a-7c57-494e-8cf0-4f82ce35ccef",
   "metadata": {},
   "outputs": [],
   "source": [
    "def par(start_idx, end_idx, coefs):\n",
    "    voltages = []\n",
    "    for hex_string in hexstrings:\n",
    "        v = hex_to_voltage(hex_string[start_idx:end_idx])\n",
    "        voltages.append(v)\n",
    "    voltages = np.array(voltages)\n",
    "    \n",
    "    par = convert_par(voltages, coefs = coefs)\n",
    "    return par"
   ]
  },
  {
   "cell_type": "code",
   "execution_count": 11,
   "id": "035823f0-194b-4075-8bf8-34d874f00c44",
   "metadata": {},
   "outputs": [],
   "source": [
    "# Noch nicht überprüft, bzw noch nicht fertig\n",
    "\n",
    "def altimeter(start_idx, end_idx, coefs, units = \"m\"):\n",
    "    voltages = []\n",
    "    for hex_string in hexstrings:\n",
    "        v = hex_to_voltage(hex_string[start_idx:end_idx])\n",
    "        voltages.append(v)\n",
    "    voltages = np.array(voltages)\n",
    "    \n",
    "    alt_m = convert_alimeter(voltages, coefs=coefs, units=units)\n",
    "    return alt_m"
   ]
  },
  {
   "cell_type": "code",
   "execution_count": 12,
   "id": "835a4614-4874-4d09-9d98-da7f2c2bb2af",
   "metadata": {},
   "outputs": [],
   "source": [
    "def eco(start_idx, end_idx, coefs):\n",
    "    voltages = []\n",
    "    for hex_string in hexstrings:\n",
    "        v = hex_to_voltage(hex_string[start_idx:end_idx])\n",
    "        voltages.append(v)\n",
    "    voltages = np.array(voltages)\n",
    "    \n",
    "    eco = convert_eco(voltages, coefs=coefs)\n",
    "    return eco"
   ]
  },
  {
   "cell_type": "code",
   "execution_count": 13,
   "id": "2013429d-b861-4cb5-9892-ab3aaa7de540",
   "metadata": {},
   "outputs": [],
   "source": [
    "def spar(start_idx, end_idx, coefs):\n",
    "    voltages = []\n",
    "    for hex_string in hexstrings:\n",
    "        N = int(hex_string[start_idx:end_idx],16)\n",
    "        v = N / 819\n",
    "        voltages.append(v)\n",
    "    voltages = np.array(voltages)\n",
    "    spar = convert_spar(voltages, coefs=coefs)\n",
    "    return spar"
   ]
  },
  {
   "cell_type": "code",
   "execution_count": 14,
   "id": "fe12ddc4-0ce8-46be-91dc-a45dad619975",
   "metadata": {},
   "outputs": [],
   "source": [
    "def position(start_idx, end_idx):\n",
    "    navi_hex = []\n",
    "    latitudes = []\n",
    "    longitudes = []\n",
    "    position = []\n",
    "    for hex_string in hexstrings:\n",
    "        navi = hex_string[start_idx:end_idx]\n",
    "        navi_hex.append(navi)\n",
    "    navi_hex = np.array(navi_hex)\n",
    "    \n",
    "    for hex_str in navi_hex:\n",
    "            # Bytes extrahieren\n",
    "            bytes_list = [int(hex_str[i:i+2], 16) for i in range(0, len(hex_str)-2, 2)]\n",
    "            # Bytes aufsplitten\n",
    "            b1, b2, b3, b4, b5, b6 = bytes_list[:6]\n",
    "            last_byte_hex = hex_str[-2:]\n",
    "            b7 = format(int(last_byte_hex, 16), '08b') \n",
    "            # Latitude & Longitude berechnen\n",
    "            lat = ((b1 * 65536 + b2 * 256 + b3) / 50000) * (-1)**int(b7[6])\n",
    "            lon = ((b4 * 65536 + b5 * 256 + b6) / 50000) * (-1)**int(b7[7])\n",
    "    \n",
    "            if b7[1] == 1:\n",
    "                pos = \"new\"\n",
    "            else: \n",
    "                pos = \"old\"\n",
    "            position.append(pos)\n",
    "            latitudes.append(lat)\n",
    "            longitudes.append(lon)\n",
    "    position = np.array(position)\n",
    "    latitudes = np.array(latitudes)\n",
    "    longitudes = np.array(longitudes)\n",
    "    return position, latitudes, longitudes"
   ]
  },
  {
   "cell_type": "code",
   "execution_count": 15,
   "id": "041261a0-cc7d-4174-8e6b-b208b8a24020",
   "metadata": {},
   "outputs": [],
   "source": [
    "def bit_number(start_idx, end_idx, form = '08b'):\n",
    "    number = []\n",
    "    \n",
    "    for hex_string in hexstrings:\n",
    "        num = format(int(hex_string[start_idx:end_idx], 16), form)\n",
    "        number.append(num)  \n",
    "    number = np.array(number)\n",
    "    return number"
   ]
  },
  {
   "cell_type": "code",
   "execution_count": 16,
   "id": "3b5157a2-e320-4950-b5d6-1232cf813925",
   "metadata": {},
   "outputs": [],
   "source": [
    "def date_time(start_idx, end_idx):\n",
    "    swapped = [\n",
    "        \"\".join([s[80:88][i:i+2] for i in range(0, 8, 2)][::-1])\n",
    "        for s in hexstrings\n",
    "    ]\n",
    "    timestamps = [int(x, 16) for x in swapped]    \n",
    "    datetimes = [datetime.fromtimestamp(ts, tz=timezone.utc) for ts in timestamps]\n",
    "    datetimes_formatted = np.array([d.strftime(\"%Y-%m-%d %H:%M:%S\") for d in datetimes])\n",
    "    return datetimes_formatted"
   ]
  },
  {
   "cell_type": "code",
   "execution_count": 17,
   "id": "5a6b5617-243f-4005-a1bd-3309eac5d73f",
   "metadata": {},
   "outputs": [
    {
     "name": "stdout",
     "output_type": "stream",
     "text": [
      "Temperatures1: [3.56156397 3.56140342 3.56172452 ... 3.74795321 3.74779314 3.74800656]\n",
      "Temperatures2: [3.56104427 3.56104427 3.56093531 ... 3.7434417  3.74327874 3.7434417 ]\n",
      "Druck in psi [ 1.66650044  1.73668555  1.73668555 ... 34.06328618 34.12490155\n",
      " 34.12490155] gewünscht: 1.667\n",
      "Druck in dbar: [ 1.14901189  1.19740283  1.19740283 ... 23.4858149  23.52829721\n",
      " 23.52829721] gewünscht: 1.149\n",
      "Conductifitys1: [15.3307893  15.33055485 15.33078936 ... 17.6564699  17.66039193\n",
      " 17.66259815]\n",
      "Conductifitys2: [15.32989468 15.33007497 15.33002992 ... 17.35461101 17.351426\n",
      " 17.34594621]\n",
      "Salinity1: [15.55212221 15.55192778 15.55203214 ... 18.02087632 18.02530687\n",
      " 18.02763887] PSU\n",
      "Salinity2: [15.5513864  15.55157157 15.55157415 ... 17.68843558 17.68498031\n",
      " 17.67881762] PSU\n",
      "Oxygens1: [8.12350183 8.12840859 8.12832994 ... 7.871811   7.87637172 7.87620114] ml/l\n",
      "Oxygens2: [8.1298626  8.12990359 8.12992871 ... 7.88650347 7.88676744 7.88705948] ml/l\n",
      "Oxygens1: [358.36352017 358.5800309  358.57653718 ... 346.59229751 346.7918986\n",
      " 346.78375911] umol/kg\n",
      "Oxygens2: [358.64432043 358.64607697 358.64718237 ... 347.32948554 347.34204769\n",
      " 347.35658805] umol/kg\n",
      "Par: [9.24020531 9.26647434 9.26647434 ... 0.04538664 0.04538664 0.04538664] µmol photons m−2s−1\n",
      "Alimeter: [23.39438339 23.41880342 23.41880342 ... 98.43711844 98.43711844\n",
      " 98.41269841]\n",
      "Fluorescence: [1.35889377 1.35889377 1.33691575 ... 1.77647619 1.75449817 1.75449817] mg/m^3\n",
      "Turbidity: [0.52689866 0.52689866 0.53178266 ... 2.95669109 2.9664591  2.96157509] NTU\n",
      "SPar: [366.85335775 366.85335775 366.85335775 ... 388.43296703 386.47118437\n",
      " 386.47118437] µmol photons m−2s−1\n",
      "Fluorescence: [0.07936508 0.08058608 0.07936508 ... 0.07936508 0.07936508 0.07814408] mg/m^3\n",
      "Position: ['old' 'old' 'old' ... 'old' 'old' 'old']\n",
      "Latitudes: [54.15508 54.15508 54.15508 ... 54.15502 54.15502 54.15502]\n",
      "Longitudes: [11.29326 11.29326 11.29326 ... 11.29332 11.29332 11.29332]\n",
      "Time_Elapsed: [0.00000000e+00 4.16666667e-02 8.33333333e-02 ... 1.27791667e+02\n",
      " 1.27833333e+02 1.27875000e+02] s\n",
      "[0. 0. 0. ... 0. 0. 0.]\n",
      "CTD status: ['0011' '0011' '0011' ... '0011' '0011' '0011']\n",
      "8-Bit Zahl: ['10001110' '10001111' '10010000' ... '10001001' '10001010' '10001011']\n",
      "Date and Times ['2024-02-08 08:31:24' '2024-02-08 08:31:24' '2024-02-08 08:31:25' ...\n",
      " '2024-02-08 08:33:32' '2024-02-08 08:33:32' '2024-02-08 08:33:32']\n"
     ]
    }
   ],
   "source": [
    "# name 1 = t090C: Temperature [ITS-90, deg C]\n",
    "# name 2 = t190C: Temperature, 2 [ITS-90, deg C]\n",
    "\n",
    "temperatures1 = temperature(bytes_list_array, 0, 1, 2, temp1_coefs)\n",
    "temperatures2 = temperature(bytes_list_array, 9, 10, 11, temp2_coefs)\n",
    "print(\"Temperatures1:\", temperatures1)\n",
    "print(\"Temperatures2:\", temperatures2)\n",
    "\n",
    "# name 0 = prDM: Pressure, Digiquartz [db]  \n",
    "pressure = pressure(bytes_list_array, 6, 7, 8, 74, 77, pres_coefs)\n",
    "print(\"Druck in psi\", pressure, \"gewünscht: 1.667\")\n",
    "pressure *= PSI_TO_DBAR # Druck von psia zu db laut seabird\n",
    "\n",
    "print(\"Druck in dbar:\", pressure, \"gewünscht: 1.149\")\n",
    "\n",
    "# name 3 = c0mS/cm: Conductivity [mS/cm]\n",
    "# name 4 = c1mS/cm: Conductivity, 2 [mS/cm]\n",
    "conductifitys1 = conductivity(bytes_list_array, temperatures1, pressure, 3, 4, 5, cond1_coefs)\n",
    "conductifitys2 = conductivity(bytes_list_array, temperatures2, pressure, 12, 13, 14, cond2_coefs)\n",
    "print(\"Conductifitys1:\", conductifitys1)\n",
    "print(\"Conductifitys2:\", conductifitys2)\n",
    "\n",
    "# name 15 = sal00: Salinity, Practical [PSU]\n",
    "# name 16 = sal11: Salinity, Practical, 2 [PSU]\n",
    "salinitys1 = salinity(conductifitys1, temperatures1, pressure)\n",
    "salinitys2 = salinity(conductifitys2, temperatures2, pressure)\n",
    "\n",
    "print(\"Salinity1:\", salinitys1,\"PSU\")\n",
    "print(\"Salinity2:\", salinitys2,\"PSU\")\n",
    "\n",
    "# name 5 = sbeox0ML/L: Oxygen, SBE 43 [ml/l]\n",
    "# name 6 = sbeox1ML/L: Oxygen, SBE 43, 2 [ml/l]\n",
    "# name 7 = sbox0Mm/Kg: Oxygen, SBE 43 [umol/kg]\n",
    "# name 8 = sbox1Mm/Kg: Oxygen, SBE 43, 2 [umol/kg]\n",
    "oxygens1 = oxygen(temperatures1, pressure, salinitys1, 30, 33, oxy1_coefs, \"ml/l\")\n",
    "oxygens2 = oxygen(temperatures2, pressure, salinitys2, 33, 36, oxy2_coefs, \"ml/l\")\n",
    "oxygens3 = oxygen(temperatures1, pressure, salinitys1, 30, 33, oxy1_coefs, \"umol/kg\")\n",
    "oxygens4 = oxygen(temperatures2, pressure, salinitys2, 33, 36, oxy2_coefs, \"umol/kg\")\n",
    "print(\"Oxygens1:\", oxygens1,\"ml/l\")\n",
    "print(\"Oxygens2:\", oxygens2,\"ml/l\")\n",
    "print(\"Oxygens1:\", oxygens3,\"umol/kg\")\n",
    "print(\"Oxygens2:\", oxygens4,\"umol/kg\")\n",
    "\n",
    "# name 11 = par: PAR/Irradiance, Biospherical/Licor\n",
    "par = par(36, 39, par_coefs)\n",
    "print(\"Par:\", par, \"µmol photons m−2s−1\")\n",
    "\n",
    "# Altimeter\n",
    "alt_m = altimeter(39, 42, ali_coefs)\n",
    "print(\"Alimeter:\",alt_m)\n",
    "\n",
    "# name 9 = flECO-AFL: Fluorescence, WET Labs ECO-AFL/FL [mg/m^3]\n",
    "flurometer1 = eco(42 ,45, fluroeco_coefs)\n",
    "print(\"Fluorescence:\" , flurometer1, \"mg/m^3\")\n",
    "\n",
    "# name 10 = turbWETntu0: Turbidity, WET Labs ECO [NTU]\n",
    "turbidity = eco(45 ,48, turbidity_coefs)\n",
    "print(\"Turbidity:\", turbidity, \"NTU\")\n",
    "\n",
    "# name 12 = spar: SPAR, Biospherical/Licor\n",
    "spar = spar(57, 60, spar_coefs)\n",
    "print(\"SPar:\", spar, \"µmol photons m−2s−1\")\n",
    "\n",
    "# Fluorescence, WET Labs CDOM\n",
    "flurometer2 = eco(51 ,54, fluroeco_coefs2)\n",
    "print(\"Fluorescence:\" , flurometer2, \"mg/m^3\")\n",
    "\n",
    "# Position\n",
    "position, latitudes, longitudes = position(60, 74)\n",
    "print(\"Position:\", position)  \n",
    "print(\"Latitudes:\", latitudes)\n",
    "print(\"Longitudes:\",longitudes)\n",
    "\n",
    "# name 13 = timeS: Time, Elapsed [seconds]\n",
    "time_elapsed = np.array(Time_elapsed(hexstrings))\n",
    "print(\"Time_Elapsed:\",time_elapsed,\"s\")\n",
    "\n",
    "# name 17 = flag:  0.000e+00\n",
    "flag = np.zeros_like(hexstrings, dtype=float)\n",
    "print(flag)\n",
    "\n",
    "# CTD status\n",
    "CTD_status_list =  bit_number(77, 78, '04b')\n",
    "print(\"CTD status:\", CTD_status_list)\n",
    "\n",
    "# 8-bit number from CTD\n",
    "bit_list = bit_number(78, 80, '08b')\n",
    "print(\"8-Bit Zahl:\", bit_list)\n",
    "\n",
    "\n",
    "# Date and Time\n",
    "datetimes_formatted = date_time(80, 88)\n",
    "print(\"Date and Times\", datetimes_formatted)"
   ]
  },
  {
   "cell_type": "code",
   "execution_count": 18,
   "id": "9f69e86a-8b31-41d3-94f0-3efce41ea4ae",
   "metadata": {},
   "outputs": [],
   "source": [
    "write_arrays_to_file(\n",
    "    pressure, temperatures1, temperatures2, conductifitys1,\n",
    "    conductifitys2, oxygens1, oxygens2, oxygens3, oxygens4,\n",
    "    flurometer1, turbidity, par, spar, time_elapsed,\n",
    "    salinitys1, salinitys2, flag\n",
    ")"
   ]
  },
  {
   "cell_type": "code",
   "execution_count": 19,
   "id": "0807f914-80f8-4fc4-89be-f7617ab0eeb3",
   "metadata": {},
   "outputs": [
    {
     "name": "stdout",
     "output_type": "stream",
     "text": [
      "[ 0.58608059  0.29304029  0.29304029 ...  0.         -0.29304029\n",
      " -0.58608059]\n"
     ]
    }
   ],
   "source": [
    "descent_rate = np.gradient(alt_m, time_elapsed)\n",
    "print(descent_rate)"
   ]
  },
  {
   "cell_type": "code",
   "execution_count": 20,
   "id": "dac5feca-ccd1-465a-9f02-eb0d242f0024",
   "metadata": {},
   "outputs": [
    {
     "name": "stdout",
     "output_type": "stream",
     "text": [
      "[ 1.13873685  1.18669492  1.18669492 ... 23.274531   23.31662872\n",
      " 23.31662872]\n",
      "[ 0.58608059  0.29304029  0.29304029 ...  0.         -0.29304029\n",
      " -0.58608059]\n",
      "[ 0.01221001  0.01831502  0.01221001 ... -0.01831502 -0.01221001\n",
      " -0.00610501]\n",
      "[ 1.15099357  0.         -1.15099357 ... -2.16172162  1.01034545\n",
      "  0.        ]\n",
      "[0.    0.024 0.024 ... 0.008 0.017 0.008]\n"
     ]
    }
   ],
   "source": [
    "x = depth_from_pressure(pressure, latitudes)\n",
    "print(x)\n",
    "descent_rate1 = np.gradient(x, time_elapsed)\n",
    "print(descent_rate)\n",
    "\n",
    "window_size = 48  # 2 Sekunden bei 24 Hz\n",
    "descent_rate_smooth = np.convolve(descent_rate, np.ones(window_size)/window_size, mode='same')\n",
    "print(descent_rate_smooth)\n",
    "\n",
    "dz = np.diff(x)\n",
    "dtM = np.diff(time_elapsed)\n",
    "\n",
    "descent_rate2 = dz/dtM\n",
    "print(descent_rate2)\n",
    "descent_rate_smooth2 = np.convolve(descent_rate2, np.ones(window_size)/window_size, mode='same')\n",
    "np.set_printoptions(precision=3, suppress=True)\n",
    "print(descent_rate_smooth2)\n"
   ]
  },
  {
   "cell_type": "code",
   "execution_count": 21,
   "id": "45639abd-017e-49a0-aa53-ecd423b2c08d",
   "metadata": {},
   "outputs": [],
   "source": [
    "# name 14 = dz/dtM: Descent Rate [m/s]"
   ]
  },
  {
   "cell_type": "code",
   "execution_count": null,
   "id": "f50fac4f-3a8a-45ed-9c17-d29de82e35cf",
   "metadata": {},
   "outputs": [],
   "source": []
  },
  {
   "cell_type": "code",
   "execution_count": null,
   "id": "d7ab8eee-ecfb-4a03-8adf-90f7db641f25",
   "metadata": {},
   "outputs": [],
   "source": []
  }
 ],
 "metadata": {
  "kernelspec": {
   "display_name": "Python 3 (ipykernel)",
   "language": "python",
   "name": "python3"
  },
  "language_info": {
   "codemirror_mode": {
    "name": "ipython",
    "version": 3
   },
   "file_extension": ".py",
   "mimetype": "text/x-python",
   "name": "python",
   "nbconvert_exporter": "python",
   "pygments_lexer": "ipython3",
   "version": "3.13.3"
  }
 },
 "nbformat": 4,
 "nbformat_minor": 5
}
