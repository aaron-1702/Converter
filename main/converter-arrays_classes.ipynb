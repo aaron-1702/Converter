{
 "cells": [
  {
   "cell_type": "code",
   "execution_count": 1,
   "id": "7c95907e-cb25-4702-9674-27bb7d747713",
   "metadata": {},
   "outputs": [],
   "source": [
    "import numpy as np\n",
    "from dataclasses import dataclass\n",
    "import math\n",
    "from typing import Literal, List\n",
    "import gsw  # TEOS-10 library (for salinity)\n",
    "from datetime import datetime, timezone"
   ]
  },
  {
   "cell_type": "code",
   "execution_count": 2,
   "id": "c95bad6e-1264-41bd-8ae4-82d6655868c7",
   "metadata": {},
   "outputs": [],
   "source": [
    "from constants import *\n",
    "from calibration_coefficients import *\n",
    "from conversion_functions import *\n",
    "from hexstrings import *"
   ]
  },
  {
   "cell_type": "code",
   "execution_count": 3,
   "id": "3bc05491-cb85-4d7d-9897-d0414487d746",
   "metadata": {},
   "outputs": [],
   "source": [
    "hexstrings = load_hexstrings_simple(\"basic_emb.hex\")\n",
    "bytes_list_array = [[hex_string[i:i+2] for i in range(0, len(hex_string), 2)] for hex_string in hexstrings]"
   ]
  },
  {
   "cell_type": "code",
   "execution_count": 4,
   "id": "bea5f418-2f34-4a1d-9a6f-d8df02b29e16",
   "metadata": {},
   "outputs": [],
   "source": [
    "def temperature(byte_array, index1, index2, index3, coefs):\n",
    "    F0 = 1000\n",
    "    temperature_counts = []\n",
    "    for byte_list in byte_array:\n",
    "        count = int(byte_list[index1], 16) * 256 + int(byte_list[index2], 16) + int(byte_list[index3], 16) / 256\n",
    "        temperature_counts.append(count)\n",
    "    temperature_counts = np.array(temperature_counts)\n",
    "    temperature_counts = F0 / temperature_counts\n",
    "    \n",
    "    temperatures = convert_temperature(temperature_counts, coefs=coefs)\n",
    "    return temperatures"
   ]
  },
  {
   "cell_type": "code",
   "execution_count": 5,
   "id": "df64c3db-5d24-4b0a-9491-469d4e958eac",
   "metadata": {},
   "outputs": [],
   "source": [
    "def pressure(byte_array, index1, index2, index3, start_idx, end_idx, coefs):\n",
    "    pressure_counts = []\n",
    "    for byte_list in byte_array:\n",
    "        count = int(byte_list[index1], 16) * 256 + int(byte_list[index2], 16) + int(byte_list[index3], 16) / 256\n",
    "        pressure_counts.append(count)\n",
    "    pressure_counts = np.array(pressure_counts)\n",
    "\n",
    "    temperature_counts = []\n",
    "    for hex_string in hexstrings:\n",
    "        temperature_value = int(hex_string[start_idx:end_idx],16)\n",
    "        temperature_counts.append(temperature_value)\n",
    "    temperature_counts = np.array(temperature_counts)\n",
    "    \n",
    "    pressure = pressure_from_frequency(pressure_counts, temperature_counts, coefs=coefs)\n",
    "    return pressure"
   ]
  },
  {
   "cell_type": "code",
   "execution_count": 6,
   "id": "b01a875e-8a4b-40c7-b2d3-cdc225fe3dd0",
   "metadata": {},
   "outputs": [],
   "source": [
    "def conductivity(byte_array,temperatures, pressure, index1, index2, index3, coefs):\n",
    "    conductivity_counts = []\n",
    "    for byte_list in byte_array:\n",
    "        count = int(byte_list[index1], 16) * 256 + int(byte_list[index2], 16) + int(byte_list[index3], 16) / 256\n",
    "        conductivity_counts.append(count)\n",
    "    conductivity_counts = np.array(conductivity_counts)\n",
    "\n",
    "    conductifitys = convert_conductivity(conductivity_counts, temperatures, pressure, coefs=coefs)\n",
    "    return conductifitys"
   ]
  },
  {
   "cell_type": "code",
   "execution_count": 7,
   "id": "aa3efc08-e45f-4f93-b061-76d87fac460a",
   "metadata": {},
   "outputs": [],
   "source": [
    "def salinity(conductifitys, temperatures, pressure):\n",
    "    salinitys = gsw.SP_from_C(conductifitys, temperatures, pressure)\n",
    "    return salinitys"
   ]
  },
  {
   "cell_type": "code",
   "execution_count": 8,
   "id": "2e432394-e3f6-4b93-90e1-e57c55bf5c2c",
   "metadata": {},
   "outputs": [],
   "source": [
    "def oxygen(temperatures, pressure, salinitys, start_idx, end_idx, coefs, units = \"ml/l\"):\n",
    "    voltages = []\n",
    "    for hex_string in hexstrings:\n",
    "        v = hex_to_voltage(hex_string[start_idx:end_idx])\n",
    "        voltages.append(v)\n",
    "    voltages = np.array(voltages)\n",
    "\n",
    "    oxygens = convert_sbe43_oxygen(voltages, temperatures, pressure, salinitys1, coefs=coefs)\n",
    "    \n",
    "    if units == \"umol/kg\":\n",
    "        potential_densitys = potential_density_from_t_s_p(temperatures,salinitys,pressure)\n",
    "        oxygens = convert_oxygen_to_umol_per_kg(oxygens, potential_densitys) *1000\n",
    "    \n",
    "    return oxygens"
   ]
  },
  {
   "cell_type": "code",
   "execution_count": 9,
   "id": "58b2170a-7c57-494e-8cf0-4f82ce35ccef",
   "metadata": {},
   "outputs": [],
   "source": [
    "def par(start_idx, end_idx, coefs):\n",
    "    voltages = []\n",
    "    for hex_string in hexstrings:\n",
    "        v = hex_to_voltage(hex_string[start_idx:end_idx])\n",
    "        voltages.append(v)\n",
    "    voltages = np.array(voltages)\n",
    "    \n",
    "    par = convert_par(voltages, coefs = coefs)\n",
    "    return par"
   ]
  },
  {
   "cell_type": "code",
   "execution_count": 10,
   "id": "04325563-cb55-4dfb-a3e4-8cd72350cbc3",
   "metadata": {},
   "outputs": [
    {
     "name": "stdout",
     "output_type": "stream",
     "text": [
      "Temperatures1: [3.56156397 3.56140342 3.56172452 ... 3.74795321 3.74779314 3.74800656]\n",
      "Temperatures2: [3.56104427 3.56104427 3.56093531 ... 3.7434417  3.74327874 3.7434417 ]\n",
      "Druck in psi [ 1.66650044  1.73668555  1.73668555 ... 34.06328618 34.12490155\n",
      " 34.12490155] gewünscht: 1.667\n",
      "Druck in dbar: [ 1.14901189  1.19740283  1.19740283 ... 23.4858149  23.52829721\n",
      " 23.52829721] gewünscht: 1.149\n",
      "Conductifitys1: [15.3307893  15.33055485 15.33078936 ... 17.6564699  17.66039193\n",
      " 17.66259815]\n",
      "Conductifitys2: [15.32989468 15.33007497 15.33002992 ... 17.35461101 17.351426\n",
      " 17.34594621]\n",
      "Salinity1: [15.55212221 15.55192778 15.55203214 ... 18.02087632 18.02530687\n",
      " 18.02763887] PSU\n",
      "Salinity2: [15.5513864  15.55157157 15.55157415 ... 17.68843558 17.68498031\n",
      " 17.67881762] PSU\n",
      "Oxygens1: [8.12350183 8.12840859 8.12832994 ... 7.871811   7.87637172 7.87620114] ml/l\n",
      "Oxygens2: [8.12982213 8.129884   8.12990352 ... 7.86881094 7.86865508 7.8684949 ] ml/l\n",
      "Oxygens1: [358.36352017 358.5800309  358.57653718 ... 346.59229751 346.7918986\n",
      " 346.78375911] umol/kg\n",
      "Oxygens2: [358.64253525 358.64521275 358.64607122 ... 346.5502889  346.54435893\n",
      " 346.5389793 ] umol/kg\n",
      "Par: [9.24020531 9.26647434 9.26647434 ... 0.04538664 0.04538664 0.04538664] µmol photons m−2s−1\n"
     ]
    }
   ],
   "source": [
    "# name 1 = t090C: Temperature [ITS-90, deg C]\n",
    "# name 2 = t190C: Temperature, 2 [ITS-90, deg C]\n",
    "\n",
    "temperatures1 = temperature(bytes_list_array, 0, 1, 2, temp1_coefs)\n",
    "temperatures2 = temperature(bytes_list_array, 9, 10, 11, temp2_coefs)\n",
    "print(\"Temperatures1:\", temperatures1)\n",
    "print(\"Temperatures2:\", temperatures2)\n",
    "\n",
    "# name 0 = prDM: Pressure, Digiquartz [db]  \n",
    "pressure = pressure(bytes_list_array, 6, 7, 8, 74, 77, pres_coefs)\n",
    "print(\"Druck in psi\", pressure, \"gewünscht: 1.667\")\n",
    "pressure *= PSI_TO_DBAR # Druck von psia zu db laut seabird\n",
    "\n",
    "print(\"Druck in dbar:\", pressure, \"gewünscht: 1.149\")\n",
    "\n",
    "# name 3 = c0mS/cm: Conductivity [mS/cm]\n",
    "# name 4 = c1mS/cm: Conductivity, 2 [mS/cm]\n",
    "conductifitys1 = conductivity(bytes_list_array, temperatures1, pressure, 3, 4, 5, cond1_coefs)\n",
    "conductifitys2 = conductivity(bytes_list_array, temperatures2, pressure, 12, 13, 14, cond2_coefs)\n",
    "print(\"Conductifitys1:\", conductifitys1)\n",
    "print(\"Conductifitys2:\", conductifitys2)\n",
    "\n",
    "# name 15 = sal00: Salinity, Practical [PSU]\n",
    "# name 16 = sal11: Salinity, Practical, 2 [PSU]\n",
    "salinitys1 = salinity(conductifitys1, temperatures1, pressure)\n",
    "salinitys2 = salinity(conductifitys2, temperatures2, pressure)\n",
    "\n",
    "print(\"Salinity1:\", salinitys1,\"PSU\")\n",
    "print(\"Salinity2:\", salinitys2,\"PSU\")\n",
    "\n",
    "# name 5 = sbeox0ML/L: Oxygen, SBE 43 [ml/l]\n",
    "# name 6 = sbeox1ML/L: Oxygen, SBE 43, 2 [ml/l]\n",
    "# name 7 = sbox0Mm/Kg: Oxygen, SBE 43 [umol/kg]\n",
    "# name 8 = sbox1Mm/Kg: Oxygen, SBE 43, 2 [umol/kg]\n",
    "oxygens1 = oxygen(temperatures1, pressure, salinitys1, 30, 33, oxy1_coefs, \"ml/l\")\n",
    "oxygens2 = oxygen(temperatures2, pressure, salinitys2, 33, 36, oxy2_coefs, \"ml/l\")\n",
    "oxygens3 = oxygen(temperatures1, pressure, salinitys1, 30, 33, oxy1_coefs, \"umol/kg\")\n",
    "oxygens4 = oxygen(temperatures2, pressure, salinitys2, 33, 36, oxy2_coefs, \"umol/kg\")\n",
    "print(\"Oxygens1:\", oxygens1,\"ml/l\")\n",
    "print(\"Oxygens2:\", oxygens2,\"ml/l\")\n",
    "print(\"Oxygens1:\", oxygens3,\"umol/kg\")\n",
    "print(\"Oxygens2:\", oxygens4,\"umol/kg\")\n",
    "\n",
    "# name 11 = par: PAR/Irradiance, Biospherical/Licor\n",
    "par = par(36, 39, par_coefs)\n",
    "print(\"Par:\", par, \"µmol photons m−2s−1\")"
   ]
  },
  {
   "cell_type": "code",
   "execution_count": 11,
   "id": "0a74520e-fd19-4ffb-ac5d-7df0e089d4cd",
   "metadata": {},
   "outputs": [
    {
     "name": "stdout",
     "output_type": "stream",
     "text": [
      "CTD status: ['0011' '0011' '0011' ... '0011' '0011' '0011']\n",
      "8-Bit Zahl: ['10001110' '10001111' '10010000' ... '10001001' '10001010' '10001011']\n"
     ]
    }
   ],
   "source": [
    "#  CTD status\n",
    "# 8-bit number from CTD\n",
    "CTD_status_liste = []\n",
    "bit_liste = []\n",
    "\n",
    "for hex_string in hexstrings:\n",
    "    CTD_status = format(int(hex_string[77:78], 16), '04b')\n",
    "    bit = format(int(hex_string[78:80], 16), '08b')\n",
    "    CTD_status_liste.append(CTD_status)\n",
    "    bit_liste.append(bit)\n",
    "\n",
    "CTD_status_liste = np.array(CTD_status_liste)\n",
    "bit_liste = np.array(bit_liste)\n",
    "\n",
    "print(\"CTD status:\", CTD_status_liste)\n",
    "print(\"8-Bit Zahl:\", bit_liste)\n"
   ]
  },
  {
   "cell_type": "code",
   "execution_count": 12,
   "id": "892a6242-e260-48cf-9af7-3524404ddc85",
   "metadata": {},
   "outputs": [
    {
     "name": "stdout",
     "output_type": "stream",
     "text": [
      "Time_Elapsed: [0.00000000e+00 4.16666667e-02 8.33333333e-02 ... 1.27791667e+02\n",
      " 1.27833333e+02 1.27875000e+02] s\n"
     ]
    }
   ],
   "source": [
    "# name 13 = timeS: Time, Elapsed [seconds]\n",
    "\n",
    "time_elapsed = np.array(Time_elapsed(hexstrings))\n",
    "print(\"Time_Elapsed:\",time_elapsed,\"s\")"
   ]
  },
  {
   "cell_type": "code",
   "execution_count": 13,
   "id": "9b924ce5-5740-4bf1-814e-dc8cd766eed2",
   "metadata": {},
   "outputs": [
    {
     "name": "stdout",
     "output_type": "stream",
     "text": [
      "Par: [9.24020531 9.26647434 9.26647434 ... 0.04538664 0.04538664 0.04538664] µmol photons m−2s−1\n"
     ]
    }
   ],
   "source": [
    "# name 11 = par: PAR/Irradiance, Biospherical/Licor\n",
    "voltages2 = []\n",
    "\n",
    "for hex_string in hexstrings:\n",
    "    v2 = hex_to_voltage(hex_string[36:39])\n",
    "    voltages2.append(v2)\n",
    "    \n",
    "voltages2 = np.array(voltages2)\n",
    "\n",
    "par = convert_par(voltages2, coefs = par_coefs)\n",
    "print(\"Par:\", par, \"µmol photons m−2s−1\")"
   ]
  },
  {
   "cell_type": "code",
   "execution_count": 14,
   "id": "1c17785e-7224-4dda-a14d-5b247fefee93",
   "metadata": {},
   "outputs": [
    {
     "name": "stdout",
     "output_type": "stream",
     "text": [
      "Voltages: [1.16971917 1.17094017 1.17094017 ... 4.92185592 4.92185592 4.92063492]\n",
      "Alimeter: [17.54578755 17.56410256 17.56410256 ... 73.82783883 73.82783883\n",
      " 73.80952381]\n"
     ]
    }
   ],
   "source": [
    "# Altimeter\n",
    "voltages3 = []\n",
    "\n",
    "for hex_string in hexstrings:\n",
    "    v3 = hex_to_voltage(hex_string[39:42])\n",
    "    voltages3.append(v3)\n",
    "    \n",
    "voltages3 = np.array(voltages3)\n",
    "\n",
    "alt_m = 15.0 * voltages3 + 0.0\n",
    "print(\"Voltages:\", voltages3)\n",
    "print(\"Alimeter:\",alt_m)"
   ]
  },
  {
   "cell_type": "code",
   "execution_count": 15,
   "id": "b81943ef-57b0-447a-a860-e228a418982c",
   "metadata": {},
   "outputs": [
    {
     "name": "stdout",
     "output_type": "stream",
     "text": [
      "Deaths:  [ 1.13870209  1.18665869  1.18665869 ... 23.27382029 23.31591673\n",
      " 23.31591673]\n",
      "Sinkraten (m/s): [ 1.15095843  0.         -1.15095843 ... -2.16165561  1.0103146\n",
      "  0.        ]\n"
     ]
    }
   ],
   "source": [
    "# name 14 = dz/dtM: Descent Rate [m/s] \n",
    "pressure_test_array = np.array([1.149,1.197,1.197,1.149,1.253,1.197,1.197,1.149,1.197,1.246])\n",
    "latitude = 54.50402\n",
    "depths = depth_from_pressure(pressure, latitude)\n",
    "print(\"Deaths: \",depths)\n",
    "\n",
    "\n",
    "\n",
    "dz = np.diff(depths)\n",
    "dtM = np.diff(time_elapsed)\n",
    "\n",
    "descent_rate = dz/dtM\n",
    "\n",
    "\n",
    "print(\"Sinkraten (m/s):\", descent_rate)\n"
   ]
  },
  {
   "cell_type": "code",
   "execution_count": 16,
   "id": "73d1bd1e-6f44-4141-9bc2-7a1c5f365636",
   "metadata": {},
   "outputs": [
    {
     "name": "stdout",
     "output_type": "stream",
     "text": [
      "Position: ['old' 'old' 'old' ... 'old' 'old' 'old']\n",
      "Latitudes: [54.15508 54.15508 54.15508 ... 54.15502 54.15502 54.15502]\n",
      "Longitudes: [11.29326 11.29326 11.29326 ... 11.29332 11.29332 11.29332]\n"
     ]
    }
   ],
   "source": [
    "navi_hex = []\n",
    "latitudes = []\n",
    "longitudes = []\n",
    "position = []\n",
    "for hex_string in hexstrings:\n",
    "    navi = hex_string[60:74]\n",
    "    navi_hex.append(navi)\n",
    "    \n",
    "navi_hex = np.array(navi_hex)\n",
    "\n",
    "for hex_str in navi_hex:\n",
    "        # Bytes extrahieren\n",
    "        bytes_list = [int(hex_str[i:i+2], 16) for i in range(0, len(hex_str)-2, 2)]\n",
    "        # Bytes aufsplitten\n",
    "        b1, b2, b3, b4, b5, b6 = bytes_list[:6]\n",
    "        last_byte_hex = hex_str[-2:]\n",
    "        b7 = format(int(last_byte_hex, 16), '08b') \n",
    "        # Latitude & Longitude berechnen\n",
    "        lat = ((b1 * 65536 + b2 * 256 + b3) / 50000) * (-1)**int(b7[6])\n",
    "        lon = ((b4 * 65536 + b5 * 256 + b6) / 50000) * (-1)**int(b7[7])\n",
    "\n",
    "        if b7[1] == 1:\n",
    "            pos = \"new\"\n",
    "        else: \n",
    "            pos = \"old\"\n",
    "        position.append(pos)\n",
    "        latitudes.append(lat)\n",
    "        longitudes.append(lon)\n",
    "position = np.array(position)\n",
    "latitudes = np.array(latitudes)\n",
    "longitudes = np.array(longitudes)\n",
    "print(\"Position:\", position)  \n",
    "print(\"Latitudes:\", latitudes)\n",
    "print(\"Longitudes:\",longitudes)"
   ]
  },
  {
   "cell_type": "code",
   "execution_count": 17,
   "id": "aaffbcce-38b5-46b2-b8d9-ef7b6ce8ac3c",
   "metadata": {},
   "outputs": [
    {
     "name": "stdout",
     "output_type": "stream",
     "text": [
      "Fluorescence: [1.35889377 1.35889377 1.33691575 ... 1.77647619 1.75449817 1.75449817] mg/m^3\n"
     ]
    }
   ],
   "source": [
    "# name 9 = flECO-AFL: Fluorescence, WET Labs ECO-AFL/FL [mg/m^3]\n",
    "voltages4 = []\n",
    "\n",
    "for hex_string in hexstrings:\n",
    "    v4 = hex_to_voltage(hex_string[42:45])\n",
    "    voltages4.append(v4)\n",
    "    \n",
    "voltages4 = np.array(voltages4)\n",
    "\n",
    "flurometer = convert_eco(voltages4, coefs = fluroeco_coefs)\n",
    "print(\"Fluorescence:\" , flurometer, \"mg/m^3\")"
   ]
  },
  {
   "cell_type": "code",
   "execution_count": 18,
   "id": "285941c3-17e8-4fb0-8038-02a6077f25d0",
   "metadata": {},
   "outputs": [
    {
     "name": "stdout",
     "output_type": "stream",
     "text": [
      "Turbidity: [0.52689866 0.52689866 0.53178266 ... 2.95669109 2.9664591  2.96157509] NTU\n"
     ]
    }
   ],
   "source": [
    "# name 10 = turbWETntu0: Turbidity, WET Labs ECO [NTU]\n",
    "voltages5 = []\n",
    "\n",
    "for hex_string in hexstrings:\n",
    "    v5 = hex_to_voltage(hex_string[45:48])\n",
    "    voltages5.append(v5)\n",
    "    \n",
    "voltages5 = np.array(voltages5)\n",
    "\n",
    "turbidity = convert_eco(voltages5, coefs = turbidity_coefs)\n",
    "print(\"Turbidity:\", turbidity, \"NTU\")"
   ]
  },
  {
   "cell_type": "code",
   "execution_count": 19,
   "id": "a2b6a19e-4679-49bd-ba54-63ac58de8ba6",
   "metadata": {},
   "outputs": [
    {
     "name": "stdout",
     "output_type": "stream",
     "text": [
      "SPar: [366.85335775 366.85335775 366.85335775 ... 388.43296703 386.47118437\n",
      " 386.47118437] µmol photons m−2s−1\n"
     ]
    }
   ],
   "source": [
    "# name 12 = spar: SPAR, Biospherical/Licor\n",
    "\n",
    "voltages9 = []\n",
    "\n",
    "for hex_string in hexstrings:\n",
    "    N = int(hex_string[57:60],16)\n",
    "    v9 = N / 819\n",
    "    voltages9.append(v9)\n",
    "    \n",
    "voltages9 = np.array(voltages9)\n",
    "\n",
    "spar = convert_spar(voltages9, coefs = spar_coefs)\n",
    "print(\"SPar:\", spar, \"µmol photons m−2s−1\")"
   ]
  },
  {
   "cell_type": "code",
   "execution_count": 20,
   "id": "af3652b2-083e-4953-8dd5-718b0743b2e3",
   "metadata": {},
   "outputs": [
    {
     "name": "stdout",
     "output_type": "stream",
     "text": [
      "Fluorescence: [0.07936508 0.08058608 0.07936508 ... 0.07936508 0.07936508 0.07814408] mg/m^3\n",
      "Why???????\n",
      "[17.54578755 17.56410256 17.56410256 ... 73.82783883 73.82783883\n",
      " 73.80952381]\n"
     ]
    }
   ],
   "source": [
    "# ???\n",
    "fluroeco_coefs2 = ECOCoefficients()\n",
    "fluroeco_coefs2.slope = 1.000\n",
    "fluroeco_coefs2.offset = 0.000\n",
    "\n",
    "\n",
    "voltages7 = []\n",
    "\n",
    "for hex_string in hexstrings:\n",
    "    v7 = hex_to_voltage(hex_string[51:54])\n",
    "    voltages7.append(v7)\n",
    "    \n",
    "voltages7 = np.array(voltages7)\n",
    "\n",
    "flurometer = convert_eco(voltages7, coefs = fluroeco_coefs2)\n",
    "print(\"Fluorescence:\" , flurometer, \"mg/m^3\")\n",
    "print(\"Why???????\")\n",
    "\n",
    "# Altimeter\n",
    "voltages3 = []\n",
    "\n",
    "for hex_string in hexstrings:\n",
    "    v3 = hex_to_voltage(hex_string[39:42])\n",
    "    voltages3.append(v3)\n",
    "    \n",
    "voltages3 = np.array(voltages3)\n",
    "\n",
    "alt_m = 15.0 * voltages3 + 0.0\n",
    "\n",
    "print(alt_m)"
   ]
  },
  {
   "cell_type": "code",
   "execution_count": 21,
   "id": "7b98fd14-b1fd-4151-b681-5a7f0dda4773",
   "metadata": {},
   "outputs": [
    {
     "name": "stdout",
     "output_type": "stream",
     "text": [
      "[0. 0. 0. ... 0. 0. 0.]\n"
     ]
    }
   ],
   "source": [
    "# name 17 = flag:  0.000e+00\n",
    "\n",
    "flag = np.zeros_like(hexstrings, dtype=float)\n",
    "print(flag)"
   ]
  },
  {
   "cell_type": "code",
   "execution_count": 22,
   "id": "5291b7dd-6949-40e2-ac51-ffa74cb7a03b",
   "metadata": {},
   "outputs": [
    {
     "name": "stdout",
     "output_type": "stream",
     "text": [
      "Date and Times ['2024-02-08 08:31:24' '2024-02-08 08:31:24' '2024-02-08 08:31:25' ...\n",
      " '2024-02-08 08:33:32' '2024-02-08 08:33:32' '2024-02-08 08:33:32']\n"
     ]
    }
   ],
   "source": [
    "# Date and Time\n",
    "swapped = [\n",
    "    \"\".join([s[-8:][i:i+2] for i in range(0, 8, 2)][::-1])\n",
    "    for s in hexstrings\n",
    "]\n",
    "timestamps = [int(x, 16) for x in swapped]    \n",
    "datetimes = [datetime.fromtimestamp(ts, tz=timezone.utc) for ts in timestamps]\n",
    "datetimes_formatted = np.array([d.strftime(\"%Y-%m-%d %H:%M:%S\") for d in datetimes])\n",
    "print(\"Date and Times\", datetimes_formatted)"
   ]
  },
  {
   "cell_type": "code",
   "execution_count": 23,
   "id": "15b7c585-9d78-4730-a207-e09b123f6483",
   "metadata": {},
   "outputs": [
    {
     "name": "stdout",
     "output_type": "stream",
     "text": [
      "Pressures: [ 1.14901189  1.19740283  1.19740283 ... 23.4858149  23.52829721\n",
      " 23.52829721] db\n",
      "\n",
      "Temperatures1: [3.56156397 3.56140342 3.56172452 ... 3.74795321 3.74779314 3.74800656] °C\n",
      "\n",
      "Temperatures2: [3.56104427 3.56104427 3.56093531 ... 3.7434417  3.74327874 3.7434417 ] °C\n",
      "\n",
      "Conductifitys1: [15.3307893  15.33055485 15.33078936 ... 17.6564699  17.66039193\n",
      " 17.66259815] mS/cm\n",
      "\n",
      "Conductifitys2: [15.32989468 15.33007497 15.33002992 ... 17.35461101 17.351426\n",
      " 17.34594621] mS/cm\n",
      "\n",
      "Oxygens1: [8.12350183 8.12840859 8.12832994 ... 7.871811   7.87637172 7.87620114] ml/l\n",
      "\n",
      "Oxygens2: [8.12982213 8.129884   8.12990352 ... 7.86881094 7.86865508 7.8684949 ] ml/l\n",
      "\n",
      "Oxygens3: [358.36352017 358.5800309  358.57653718 ... 346.59229751 346.7918986\n",
      " 346.78375911] umol/kg\n",
      "\n",
      "Oxygens4: [358.64253525 358.64521275 358.64607122 ... 346.5502889  346.54435893\n",
      " 346.5389793 ] umol/kg\n",
      "\n",
      "Fluorescence: [0.07936508 0.08058608 0.07936508 ... 0.07936508 0.07936508 0.07814408] mg/m^3\n",
      "\n",
      "Turbidity: [0.52689866 0.52689866 0.53178266 ... 2.95669109 2.9664591  2.96157509] NTU\n",
      "\n",
      "Par: [9.24020531 9.26647434 9.26647434 ... 0.04538664 0.04538664 0.04538664] µmol photons m−2s−1\n",
      "\n",
      "SPar: [366.85335775 366.85335775 366.85335775 ... 388.43296703 386.47118437\n",
      " 386.47118437] µmol photons m−2s−1\n",
      "\n",
      "Time_Elapsed: [0.00000000e+00 4.16666667e-02 8.33333333e-02 ... 1.27791667e+02\n",
      " 1.27833333e+02 1.27875000e+02] s\n",
      "\n",
      "Salinity1: [15.55212221 15.55192778 15.55203214 ... 18.02087632 18.02530687\n",
      " 18.02763887] PSU\n",
      "\n",
      "Salinity2: [15.5513864  15.55157157 15.55157415 ... 17.68843558 17.68498031\n",
      " 17.67881762] PSU\n",
      "\n",
      "Flag: [0. 0. 0. ... 0. 0. 0.] \n",
      "\n"
     ]
    }
   ],
   "source": [
    "print(\"Pressures:\", pressure,\"db\\n\")\n",
    "\n",
    "print(\"Temperatures1:\", temperatures1,\"°C\\n\")\n",
    "print(\"Temperatures2:\", temperatures2,\"°C\\n\")\n",
    "\n",
    "print(\"Conductifitys1:\", conductifitys1,\"mS/cm\\n\")\n",
    "print(\"Conductifitys2:\", conductifitys2,\"mS/cm\\n\")\n",
    "\n",
    "print(\"Oxygens1:\", oxygens1,\"ml/l\\n\")\n",
    "print(\"Oxygens2:\", oxygens2,\"ml/l\\n\")\n",
    "print(\"Oxygens3:\", oxygens3,\"umol/kg\\n\")\n",
    "print(\"Oxygens4:\", oxygens4,\"umol/kg\\n\")\n",
    "\n",
    "print(\"Fluorescence:\" , flurometer, \"mg/m^3\\n\")\n",
    "\n",
    "print(\"Turbidity:\", turbidity, \"NTU\\n\")\n",
    "\n",
    "print(\"Par:\", par, \"µmol photons m−2s−1\\n\")\n",
    "print(\"SPar:\", spar, \"µmol photons m−2s−1\\n\")\n",
    "\n",
    "print(\"Time_Elapsed:\", time_elapsed,\"s\\n\")\n",
    "\n",
    "print(\"Salinity1:\", salinitys1,\"PSU\\n\")\n",
    "print(\"Salinity2:\", salinitys2,\"PSU\\n\")\n",
    "print(\"Flag:\", flag,\"\\n\")"
   ]
  },
  {
   "cell_type": "code",
   "execution_count": 24,
   "id": "8936d814-7526-444a-829b-d67d6bb31a81",
   "metadata": {},
   "outputs": [
    {
     "ename": "SyntaxError",
     "evalue": "invalid character '°' (U+00B0) (950467276.py, line 2)",
     "output_type": "error",
     "traceback": [
      "  \u001b[36mCell\u001b[39m\u001b[36m \u001b[39m\u001b[32mIn[24]\u001b[39m\u001b[32m, line 2\u001b[39m\n\u001b[31m    \u001b[39m\u001b[31mname 1 = Temp_1: 3.561563969710619 °C                     --> Richtig\u001b[39m\n                                       ^\n\u001b[31mSyntaxError\u001b[39m\u001b[31m:\u001b[39m invalid character '°' (U+00B0)\n"
     ]
    }
   ],
   "source": [
    "name 0 = Pressure: -42139.332086015915 db                        --> Falsch\n",
    "name 1 = Temp_1: 3.561563969710619 °C                     --> Richtig\n",
    "name 2 = Temp_2: 3.561044266345732 °C                     --> Richtig\n",
    "name 3 = Conductivity_1: 15.330789300015969 mS/cm         --> Richtig\n",
    "name 4 = Conductivity_2: 15.32989468343113 mS/cm          --> Richtig\n",
    "name 5 = Oxygen1: [8.12350182] ml/l                       --> Richtig\n",
    "name 6 = Oxygen2: [8.12986258] ml/l                       --> Richtig\n",
    "name 7 = Oxygen1: [358.3635196] umol/kg                   --> Richtig\n",
    "name 8 = Oxygen2: [358.64431987] umol/kg                  --> Richtig\n",
    "name 9 = flECO-AFL: Fluorescence, WET Labs ECO-AFL/FL [mg/m^3]   --> Richtig\n",
    "name 10 = turbWETntu0: Turbidity, WET Labs ECO [NTU]             --> Richtig\n",
    "name 11 = par: PAR/Irradiance, Biospherical/Licor         --> Richtig\n",
    "name 12 = spar: SPAR, Biospherical/Licor                         --> Richtig\n",
    "name 13 = timeS: Time, Elapsed [seconds]                  --> Richtig\n",
    "\n",
    "name 14 = dz/dtM: Descent Rate [m/s]                            --> Falsch\n",
    "\n",
    "name 15 = Salinity1: 15.5521222127295 PSU                 --> Richtig\n",
    "name 16 = Salinity2: 15.551386401977785 PSU               --> Richtig\n",
    "name 17 = flag:  0.000e+00                                --> Richtig\n",
    "\n",
    "\n",
    "name 0 = Pressure: -42139.332086015915 db                        --> Falsch\n",
    "\n",
    "\n",
    "name 14 = dz/dtM: Descent Rate [m/s]                             --> hängt stark von pressure ab, zu ungenau durch runden bei test_array"
   ]
  },
  {
   "cell_type": "code",
   "execution_count": null,
   "id": "f61cc0eb-0243-4a11-94a5-e2fd25e331ca",
   "metadata": {},
   "outputs": [],
   "source": []
  },
  {
   "cell_type": "code",
   "execution_count": null,
   "id": "2444b7bc-4014-4bc9-8f60-743ca6c85cbc",
   "metadata": {},
   "outputs": [],
   "source": []
  },
  {
   "cell_type": "code",
   "execution_count": null,
   "id": "5ea009c3-42a8-4202-8655-a5767945b73f",
   "metadata": {},
   "outputs": [],
   "source": []
  },
  {
   "cell_type": "code",
   "execution_count": null,
   "id": "48c2c2a2-5c16-4d81-a6c1-83cf2a8918e6",
   "metadata": {},
   "outputs": [],
   "source": []
  }
 ],
 "metadata": {
  "kernelspec": {
   "display_name": "Python 3 (ipykernel)",
   "language": "python",
   "name": "python3"
  },
  "language_info": {
   "codemirror_mode": {
    "name": "ipython",
    "version": 3
   },
   "file_extension": ".py",
   "mimetype": "text/x-python",
   "name": "python",
   "nbconvert_exporter": "python",
   "pygments_lexer": "ipython3",
   "version": "3.13.5"
  }
 },
 "nbformat": 4,
 "nbformat_minor": 5
}
