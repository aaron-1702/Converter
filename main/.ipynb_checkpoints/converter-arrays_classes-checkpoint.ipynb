{
 "cells": [
  {
   "cell_type": "code",
   "execution_count": 1,
   "id": "7c95907e-cb25-4702-9674-27bb7d747713",
   "metadata": {},
   "outputs": [],
   "source": [
    "import numpy as np\n",
    "from dataclasses import dataclass\n",
    "import math\n",
    "from typing import Literal, List\n",
    "import gsw  # TEOS-10 library (for salinity)\n",
    "from datetime import datetime, timezone"
   ]
  },
  {
   "cell_type": "code",
   "execution_count": 2,
   "id": "c95bad6e-1264-41bd-8ae4-82d6655868c7",
   "metadata": {},
   "outputs": [],
   "source": [
    "from constants import *\n",
    "from calibration_coefficients import *\n",
    "from conversion_functions import *"
   ]
  },
  {
   "cell_type": "code",
   "execution_count": 3,
   "id": "3bc05491-cb85-4d7d-9897-d0414487d746",
   "metadata": {},
   "outputs": [],
   "source": [
    "hexstrings = [\n",
    "    \"0CD08410767B80458F0CCA6F1107AE7D58A3987C41F0DEF2FFFFBE0000BB29512A089DB7004D638E5C91C465\",\n",
    "    \"0CD0811076768045960CCA6F1107B27D48A3986C40F0DEF2FFFFBD0000BB29512A089DB7004D638F5C91C465\",\n",
    "    \"0CD08710767B8045960CCA6D1107B17D48A3986C40F10EF0FFFFBE0000BB29512A089DB7004D63905D91C465\",\n",
    "    \"0CD08710767A80458F0CCA6C1107AE7D58A3986C3FF16EE7FFFFBE0000BB29512A089DB7004D63915D91C465\",\n",
    "    \"0CD08A10767680459E0CCA6F1107B27D58A3987C40F18EE3FFFFBE0000BB29512A089DB7004D63925D91C465\",\n",
    "    \"0CD08410767A8045960CCA6C1107B17D58A3988C41F18EE3FFFFBE0000BB29512A089DB7004D63935D91C465\",\n",
    "    \"0CD0811076798045960CCA6A1107B17D58A498AC41F18EE1FFFFBE0000BB29512A089DB7004D63945D91C465\",\n",
    "    \"0CD08410767C80458F0CCA6A1107B07D48A398BC40F15ED4FFFFBE0000BB29512A089DB7004D63955D91C465\",\n",
    "    \"0CD08710767A8045960CCA6F1107B17D48A498CC41F13ECEFFFFBE0000BB29512A089DB7004D63965D91C465\",\n",
    "    \"0CD08110767980459D0CCA6F1107B07D48A398DC41F13ECEFFFFBD0000BB29512A089DB7004D63975D91C465\"\n",
    "]\n",
    "bytes_list_array = [[hex_string[i:i+2] for i in range(0, len(hex_string), 2)] for hex_string in hexstrings]\n",
    "\n",
    "\n",
    "pressure_test_array = np.array([1.149,1.197,1.197,1.149,1.253,1.197,1.197,1.149,1.197,1.246])"
   ]
  },
  {
   "cell_type": "code",
   "execution_count": 4,
   "id": "6f69e4d0-c73c-4a83-b665-07108197a107",
   "metadata": {},
   "outputs": [
    {
     "name": "stdout",
     "output_type": "stream",
     "text": [
      "[3280.515625   3280.50390625 3280.52734375 3280.52734375 3280.5390625\n",
      " 3280.515625   3280.50390625 3280.515625   3280.52734375 3280.50390625]\n",
      "[0.30483013 0.30483122 0.30482904 0.30482904 0.30482795 0.30483013\n",
      " 0.30483122 0.30483013 0.30482904 0.30483122]\n",
      "Temperatures1: [3.56156397 3.56140342 3.56172452 3.56172452 3.56188507 3.56156397\n",
      " 3.56140342 3.56156397 3.56172452 3.56140342]\n",
      "Temperatures2: [3.56104427 3.56104427 3.56093531 3.56088084 3.56104427 3.56088084\n",
      " 3.56077188 3.56077188 3.56104427 3.56104427]\n"
     ]
    }
   ],
   "source": [
    "# name 1 = t090C: Temperature [ITS-90, deg C]\n",
    "# name 2 = t190C: Temperature, 2 [ITS-90, deg C]\n",
    "\n",
    "F0 = 1000\n",
    "temperature_counts1 = []\n",
    "temperature_counts2 = []\n",
    "\n",
    "for byte_list in bytes_list_array:\n",
    "    count1 = int(byte_list[0], 16) * 256 + int(byte_list[1], 16) + int(byte_list[2], 16) / 256\n",
    "    count2 = int(byte_list[9], 16) * 256 + int(byte_list[10], 16) + int(byte_list[11], 16) / 256\n",
    "    temperature_counts1.append(count1)\n",
    "    temperature_counts2.append(count2)\n",
    "\n",
    "temperature_counts1 = np.array(temperature_counts1)\n",
    "temperature_counts2 = np.array(temperature_counts2)\n",
    "print(temperature_counts1)\n",
    "\n",
    "temperature_counts1 = F0 / temperature_counts1\n",
    "temperature_counts2 = F0 / temperature_counts2\n",
    "\n",
    "print(temperature_counts1)\n",
    "\n",
    "temperatures1 = convert_temperature(temperature_counts1, coefs=temp1_coefs)\n",
    "temperatures2 = convert_temperature(temperature_counts2, coefs=temp2_coefs)\n",
    "\n",
    "print(\"Temperatures1:\", temperatures1)\n",
    "print(\"Temperatures2:\", temperatures2)"
   ]
  },
  {
   "cell_type": "code",
   "execution_count": 5,
   "id": "b8cd5401-6d3d-4ac4-8bcf-5262ec730f4f",
   "metadata": {},
   "outputs": [
    {
     "name": "stdout",
     "output_type": "stream",
     "text": [
      "Druck in psi [1.66650044 1.73668555 1.73668555 1.66650044 1.81689718 1.73668555\n",
      " 1.73668555 1.66650044 1.73668555 1.80687072] gewünscht: 1.667\n",
      "Druck in dbar: [1.14901189 1.19740283 1.19740283 1.14901189 1.25270682 1.19740283\n",
      " 1.19740283 1.14901189 1.19740283 1.24579382] gewünscht: 1.149\n"
     ]
    }
   ],
   "source": [
    "# name 0 = prDM: Pressure, Digiquartz [db]   \n",
    "pressure_counts = []\n",
    "\n",
    "for byte_list in bytes_list_array:\n",
    "    count = int(byte_list[6], 16) * 256 + int(byte_list[7], 16) + int(byte_list[8], 16) / 256\n",
    "    pressure_counts.append(count)\n",
    "\n",
    "pressure_counts = np.array(pressure_counts)\n",
    "\n",
    "temperature_counts = []\n",
    "\n",
    "for hex_string in hexstrings:\n",
    "    temperature_value = int(hex_string[74:77],16)\n",
    "    temperature_counts.append(temperature_value)\n",
    "\n",
    "temperature_counts = np.array(temperature_counts)\n",
    "\n",
    "pressure = pressure_from_frequency(pressure_counts, temperature_counts, coefs=pres_coefs)\n",
    "\n",
    "\n",
    "print(\"Druck in psi\", pressure, \"gewünscht: 1.667\")\n",
    "pressure *= PSI_TO_DBAR # Druck von psia zu db laut seabird\n",
    "\n",
    "print(\"Druck in dbar:\", pressure, \"gewünscht: 1.149\")"
   ]
  },
  {
   "cell_type": "code",
   "execution_count": 6,
   "id": "0a74520e-fd19-4ffb-ac5d-7df0e089d4cd",
   "metadata": {},
   "outputs": [
    {
     "name": "stdout",
     "output_type": "stream",
     "text": [
      "CTD status: ['0011' '0011' '0011' '0011' '0011' '0011' '0011' '0011' '0011' '0011']\n",
      "8-Bit Zahl: ['10001110' '10001111' '10010000' '10010001' '10010010' '10010011'\n",
      " '10010100' '10010101' '10010110' '10010111']\n"
     ]
    }
   ],
   "source": [
    "#  CTD status\n",
    "# 8-bit number from CTD\n",
    "CTD_status_liste = []\n",
    "bit_liste = []\n",
    "\n",
    "for hex_string in hexstrings:\n",
    "    CTD_status = format(int(hex_string[77:78], 16), '04b')\n",
    "    bit = format(int(hex_string[78:80], 16), '08b')\n",
    "    CTD_status_liste.append(CTD_status)\n",
    "    bit_liste.append(bit)\n",
    "\n",
    "CTD_status_liste = np.array(CTD_status_liste)\n",
    "bit_liste = np.array(bit_liste)\n",
    "\n",
    "print(\"CTD status:\", CTD_status_liste)\n",
    "print(\"8-Bit Zahl:\", bit_liste)\n"
   ]
  },
  {
   "cell_type": "code",
   "execution_count": 7,
   "id": "ddab0dd4-0d62-4d33-b942-3571b3b5b331",
   "metadata": {},
   "outputs": [
    {
     "name": "stdout",
     "output_type": "stream",
     "text": [
      "Conductifitys1: [15.3307893  15.33055485 15.33078936 15.33074239 15.3305549  15.33074246\n",
      " 15.33069557 15.33083621 15.33074246 15.33069564]\n",
      "Conductifitys2: [15.32989468 15.33007497 15.33002992 15.32989469 15.33007505 15.33002992\n",
      " 15.33002993 15.3299848  15.33002991 15.32998493]\n"
     ]
    }
   ],
   "source": [
    "# name 3 = c0mS/cm: Conductivity [mS/cm]\n",
    "# name 4 = c1mS/cm: Conductivity, 2 [mS/cm]\n",
    "\n",
    "conductivity_counts1 = []\n",
    "conductivity_counts2 = []\n",
    "\n",
    "for byte_list in bytes_list_array:\n",
    "    count1 = int(byte_list[3], 16) * 256 + int(byte_list[4], 16) + int(byte_list[5], 16) / 256\n",
    "    count2 = int(byte_list[12], 16) * 256 + int(byte_list[13], 16) + int(byte_list[14], 16) / 256\n",
    "    conductivity_counts1.append(count1)\n",
    "    conductivity_counts2.append(count2)\n",
    "\n",
    "conductivity_counts1 = np.array(conductivity_counts1)\n",
    "conductivity_counts2 = np.array(conductivity_counts2)\n",
    "\n",
    "conductifitys1 = convert_conductivity(conductivity_counts1, temperatures1, pressure_test_array, coefs=cond1_coefs)\n",
    "conductifitys2 = convert_conductivity(conductivity_counts2, temperatures2, pressure_test_array, coefs=cond2_coefs)\n",
    "\n",
    "print(\"Conductifitys1:\", conductifitys1)\n",
    "print(\"Conductifitys2:\", conductifitys2)"
   ]
  },
  {
   "cell_type": "code",
   "execution_count": 8,
   "id": "828f3069-762b-43c2-8142-73bf1f582230",
   "metadata": {},
   "outputs": [
    {
     "name": "stdout",
     "output_type": "stream",
     "text": [
      "Salinity1: [15.55212221 15.55192789 15.55203225 15.5519937  15.55168197 15.55205751\n",
      " 15.55208277 15.55217384 15.55198062 15.55206942] PSU\n",
      "Salinity2: [15.5513864  15.55157168 15.55157426 15.55146467 15.55155642 15.55160035\n",
      " 15.55165253 15.55161602 15.55152209 15.55145915] PSU\n"
     ]
    }
   ],
   "source": [
    "# name 15 = sal00: Salinity, Practical [PSU]\n",
    "# name 16 = sal11: Salinity, Practical, 2 [PSU]\n",
    "\n",
    "salinitys1 = gsw.SP_from_C(conductifitys1, temperatures1, pressure_test_array)\n",
    "salinitys2 = gsw.SP_from_C(conductifitys2, temperatures2, pressure_test_array)\n",
    "\n",
    "print(\"Salinity1:\", salinitys1,\"PSU\")\n",
    "print(\"Salinity2:\", salinitys2,\"PSU\")"
   ]
  },
  {
   "cell_type": "code",
   "execution_count": 9,
   "id": "e5f5b762-14d7-4a9d-b33e-7f7daeafb86f",
   "metadata": {},
   "outputs": [
    {
     "name": "stdout",
     "output_type": "stream",
     "text": [
      "Oxygens1: [8.12350182 8.12840815 8.12832951 8.12347245 8.12356307 8.12355611\n",
      " 8.12359115 8.12830742 8.12833235 8.12845219] ml/l\n",
      "Oxygens2: [8.12986258 8.12990316 8.12992827 8.12989616 8.12996323 8.12993947\n",
      " 8.12444201 8.12991309 8.12438609 8.12996118] ml/l\n",
      "Oxygens1: [358.3635196  358.58001181 358.57651809 358.36226265 358.36635012\n",
      " 358.36593255 358.36746887 358.57550118 358.57665784 358.58191457] umol/kg\n",
      "Oxygens2: [358.64431987 358.64605787 358.64716327 358.64577657 358.64871212\n",
      " 358.64764884 358.40511542 358.64647918 358.40268922 358.64864886] umol/kg\n"
     ]
    }
   ],
   "source": [
    "# name 5 = sbeox0ML/L: Oxygen, SBE 43 [ml/l]\n",
    "# name 6 = sbeox1ML/L: Oxygen, SBE 43, 2 [ml/l]\n",
    "# name 7 = sbox0Mm/Kg: Oxygen, SBE 43 [umol/kg]\n",
    "# name 8 = sbox1Mm/Kg: Oxygen, SBE 43, 2 [umol/kg]\n",
    "\n",
    "voltages0 = []\n",
    "voltages1 = []\n",
    "\n",
    "for hex_string in hexstrings:\n",
    "    v0 = hex_to_voltage(hex_string[30:33])\n",
    "    v1 = hex_to_voltage(hex_string[33:36])\n",
    "    voltages0.append(v0)\n",
    "    voltages1.append(v1)\n",
    "\n",
    "voltages0 = np.array(voltages0)\n",
    "voltages1 = np.array(voltages1)\n",
    "\n",
    "oxygens1 = convert_sbe43_oxygen(voltages0,temperatures1,pressure_test_array,salinitys1,coefs= oxy1_coefs)\n",
    "oxygens2 = convert_sbe43_oxygen(voltages1,temperatures2,pressure_test_array,salinitys2,coefs= oxy2_coefs)\n",
    "print(\"Oxygens1:\", oxygens1,\"ml/l\")\n",
    "print(\"Oxygens2:\", oxygens2,\"ml/l\")\n",
    "\n",
    "\n",
    "potential_densitys1 = potential_density_from_t_s_p(temperatures1,salinitys1,pressure_test_array)\n",
    "potential_densitys2 = potential_density_from_t_s_p(temperatures2,salinitys2,pressure_test_array)\n",
    "\n",
    "oxygens3 = convert_oxygen_to_umol_per_kg(oxygens1, potential_densitys1) *1000\n",
    "oxygens4 = convert_oxygen_to_umol_per_kg(oxygens2, potential_densitys2) *1000\n",
    "print(\"Oxygens1:\", oxygens3,\"umol/kg\")\n",
    "print(\"Oxygens2:\", oxygens4,\"umol/kg\")"
   ]
  },
  {
   "cell_type": "code",
   "execution_count": 10,
   "id": "892a6242-e260-48cf-9af7-3524404ddc85",
   "metadata": {},
   "outputs": [
    {
     "name": "stdout",
     "output_type": "stream",
     "text": [
      "Time_Elapsed: [0.0, 0.041666666666666664, 0.08333333333333333, 0.125, 0.16666666666666666, 0.20833333333333331, 0.25, 0.29166666666666663, 0.3333333333333333, 0.375] s\n"
     ]
    }
   ],
   "source": [
    "# name 13 = timeS: Time, Elapsed [seconds]\n",
    "\n",
    "time_elapsed = Time_elapsed(hexstrings)\n",
    "print(\"Time_Elapsed:\",time_elapsed,\"s\")"
   ]
  },
  {
   "cell_type": "code",
   "execution_count": 11,
   "id": "2e624494-1013-4243-b0a9-0f6bd1cba1c3",
   "metadata": {},
   "outputs": [
    {
     "name": "stdout",
     "output_type": "stream",
     "text": [
      "2.021978021978022 1.1697191697191696 0.29548229548229554 0.3284493284493284 0.0 0.07936507936507964\n"
     ]
    }
   ],
   "source": [
    "hex_string = \"0CD08410767B80458F0CCA6F1107AE7D58A3987C41F0DEF2FFFFBE0000BB29512A089DB7004D638E5C91C465\"\n",
    "voltage2 = hex_to_voltage(hex_string[36:39])\n",
    "voltage3 = hex_to_voltage(hex_string[39:42])\n",
    "voltage4 = hex_to_voltage(hex_string[42:45])\n",
    "voltage5 = hex_to_voltage(hex_string[45:48])\n",
    "voltage6 = hex_to_voltage(hex_string[48:51])\n",
    "voltage7 = hex_to_voltage(hex_string[51:54])\n",
    "print(voltage2, voltage3, voltage4, voltage5, voltage6, voltage7)"
   ]
  },
  {
   "cell_type": "code",
   "execution_count": 12,
   "id": "9b924ce5-5740-4bf1-814e-dc8cd766eed2",
   "metadata": {},
   "outputs": [
    {
     "name": "stdout",
     "output_type": "stream",
     "text": [
      "Par: [9.24020531 9.26647434 9.26647434 9.26647434 9.24020531 9.21401003\n",
      " 9.16183989 9.13586462 9.10996228 9.08413265] µmol photons m−2s−1\n"
     ]
    }
   ],
   "source": [
    "# name 11 = par: PAR/Irradiance, Biospherical/Licor\n",
    "voltages2 = []\n",
    "\n",
    "for hex_string in hexstrings:\n",
    "    v2 = hex_to_voltage(hex_string[36:39])\n",
    "    voltages2.append(v2)\n",
    "    \n",
    "voltages2 = np.array(voltages2)\n",
    "\n",
    "par = convert_par(voltages2, coefs = par_coefs)\n",
    "print(\"Par:\", par, \"µmol photons m−2s−1\")"
   ]
  },
  {
   "cell_type": "code",
   "execution_count": 13,
   "id": "1c17785e-7224-4dda-a14d-5b247fefee93",
   "metadata": {},
   "outputs": [
    {
     "name": "stdout",
     "output_type": "stream",
     "text": [
      "Voltages: [1.16971917 1.17094017 1.17094017 1.17216117 1.17094017 1.16971917\n",
      " 1.16971917 1.17094017 1.16971917 1.16971917]\n",
      "Alimeter: [17.54578755 17.56410256 17.56410256 17.58241758 17.56410256 17.54578755\n",
      " 17.54578755 17.56410256 17.54578755 17.54578755]\n"
     ]
    }
   ],
   "source": [
    "# Altimeter\n",
    "voltages3 = []\n",
    "\n",
    "for hex_string in hexstrings:\n",
    "    v3 = hex_to_voltage(hex_string[39:42])\n",
    "    voltages3.append(v3)\n",
    "    \n",
    "voltages3 = np.array(voltages3)\n",
    "\n",
    "alt_m = 15.0 * voltages3 + 0.0\n",
    "print(\"Voltages:\", voltages3)\n",
    "print(\"Alimeter:\",alt_m)"
   ]
  },
  {
   "cell_type": "code",
   "execution_count": 14,
   "id": "b81943ef-57b0-447a-a860-e228a418982c",
   "metadata": {},
   "outputs": [
    {
     "name": "stdout",
     "output_type": "stream",
     "text": [
      "Deaths:  [1.13870209 1.18665869 1.18665869 1.13870209 1.24146628 1.18665869\n",
      " 1.18665869 1.13870209 1.18665869 1.23461533]\n",
      "Sinkraten (m/s): [ 1.15095843  0.         -1.15095843  2.46634051 -1.31538208  0.\n",
      " -1.15095843  1.15095843  1.15095926]\n"
     ]
    }
   ],
   "source": [
    "# name 14 = dz/dtM: Descent Rate [m/s] \n",
    "pressure_test_array = np.array([1.149,1.197,1.197,1.149,1.253,1.197,1.197,1.149,1.197,1.246])\n",
    "latitude = 54.50402\n",
    "depths = depth_from_pressure(pressure, latitude)\n",
    "print(\"Deaths: \",depths)\n",
    "\n",
    "\n",
    "\n",
    "dz = np.diff(depths)\n",
    "dtM = np.diff(time_elapsed)\n",
    "\n",
    "descent_rate = dz/dtM\n",
    "\n",
    "\n",
    "print(\"Sinkraten (m/s):\", descent_rate)\n"
   ]
  },
  {
   "cell_type": "code",
   "execution_count": 15,
   "id": "73d1bd1e-6f44-4141-9bc2-7a1c5f365636",
   "metadata": {},
   "outputs": [
    {
     "name": "stdout",
     "output_type": "stream",
     "text": [
      "Position: ['old', 'old', 'old', 'old', 'old', 'old', 'old', 'old', 'old', 'old']\n",
      "Latitudes: [54.15508, 54.15508, 54.15508, 54.15508, 54.15508, 54.15508, 54.15508, 54.15508, 54.15508, 54.15508]\n",
      "Longitudes: [11.29326, 11.29326, 11.29326, 11.29326, 11.29326, 11.29326, 11.29326, 11.29326, 11.29326, 11.29326]\n"
     ]
    }
   ],
   "source": [
    "navi_hex = []\n",
    "latitudes = []\n",
    "longitudes = []\n",
    "position = []\n",
    "for hex_string in hexstrings:\n",
    "    navi = hex_string[60:74]\n",
    "    navi_hex.append(navi)\n",
    "    \n",
    "navi_hex = np.array(navi_hex)\n",
    "\n",
    "for hex_str in navi_hex:\n",
    "        # Bytes extrahieren\n",
    "        bytes_list = [int(hex_str[i:i+2], 16) for i in range(0, len(hex_str)-2, 2)]\n",
    "        # Bytes aufsplitten\n",
    "        b1, b2, b3, b4, b5, b6 = bytes_list[:6]\n",
    "        last_byte_hex = hex_str[-2:]\n",
    "        b7 = format(int(last_byte_hex, 16), '08b') \n",
    "        # Latitude & Longitude berechnen\n",
    "        lat = ((b1 * 65536 + b2 * 256 + b3) / 50000) * (-1)**int(b7[6])\n",
    "        lon = ((b4 * 65536 + b5 * 256 + b6) / 50000) * (-1)**int(b7[7])\n",
    "\n",
    "        if b7[1] == 1:\n",
    "            pos = \"new\"\n",
    "        else: \n",
    "            pos = \"old\"\n",
    "        position.append(pos)\n",
    "        latitudes.append(lat)\n",
    "        longitudes.append(lon)\n",
    "print(\"Position:\", position)  \n",
    "print(\"Latitudes:\", latitudes)\n",
    "print(\"Longitudes:\",longitudes)"
   ]
  },
  {
   "cell_type": "code",
   "execution_count": 16,
   "id": "aaffbcce-38b5-46b2-b8d9-ef7b6ce8ac3c",
   "metadata": {},
   "outputs": [
    {
     "name": "stdout",
     "output_type": "stream",
     "text": [
      "Fluorescence: [1.35889377 1.35889377 1.33691575 1.29295971 1.27830769 1.27830769\n",
      " 1.27830769 1.30028571 1.31493773 1.31493773] mg/m^3\n"
     ]
    }
   ],
   "source": [
    "# name 9 = flECO-AFL: Fluorescence, WET Labs ECO-AFL/FL [mg/m^3]\n",
    "voltages4 = []\n",
    "\n",
    "for hex_string in hexstrings:\n",
    "    v4 = hex_to_voltage(hex_string[42:45])\n",
    "    voltages4.append(v4)\n",
    "    \n",
    "voltages4 = np.array(voltages4)\n",
    "\n",
    "flurometer = convert_eco(voltages4, coefs = fluroeco_coefs)\n",
    "print(\"Fluorescence:\" , flurometer, \"mg/m^3\")"
   ]
  },
  {
   "cell_type": "code",
   "execution_count": 17,
   "id": "285941c3-17e8-4fb0-8038-02a6077f25d0",
   "metadata": {},
   "outputs": [
    {
     "name": "stdout",
     "output_type": "stream",
     "text": [
      "Turbidity: [0.52689866 0.52689866 0.53178266 0.55376068 0.56352869 0.56352869\n",
      " 0.5684127  0.60015873 0.61481074 0.61481074] NTU\n"
     ]
    }
   ],
   "source": [
    "# name 10 = turbWETntu0: Turbidity, WET Labs ECO [NTU]\n",
    "voltages5 = []\n",
    "\n",
    "for hex_string in hexstrings:\n",
    "    v5 = hex_to_voltage(hex_string[45:48])\n",
    "    voltages5.append(v5)\n",
    "    \n",
    "voltages5 = np.array(voltages5)\n",
    "\n",
    "turbidity = convert_eco(voltages5, coefs = turbidity_coefs)\n",
    "print(\"Turbidity:\", turbidity, \"NTU\")"
   ]
  },
  {
   "cell_type": "code",
   "execution_count": 18,
   "id": "a2b6a19e-4679-49bd-ba54-63ac58de8ba6",
   "metadata": {},
   "outputs": [
    {
     "name": "stdout",
     "output_type": "stream",
     "text": [
      "SPar: [366.85335775 366.85335775 366.85335775 366.85335775 366.85335775\n",
      " 366.85335775 366.85335775 366.85335775 366.85335775 366.85335775] µmol photons m−2s−1\n"
     ]
    }
   ],
   "source": [
    "# name 12 = spar: SPAR, Biospherical/Licor\n",
    "\n",
    "voltages9 = []\n",
    "\n",
    "for hex_string in hexstrings:\n",
    "    N = int(hex_string[57:60],16)\n",
    "    v9 = N / 819\n",
    "    voltages9.append(v9)\n",
    "    \n",
    "voltages9 = np.array(voltages9)\n",
    "\n",
    "spar = convert_spar(voltages9, coefs = spar_coefs)\n",
    "print(\"SPar:\", spar, \"µmol photons m−2s−1\")"
   ]
  },
  {
   "cell_type": "code",
   "execution_count": 19,
   "id": "af3652b2-083e-4953-8dd5-718b0743b2e3",
   "metadata": {},
   "outputs": [
    {
     "name": "stdout",
     "output_type": "stream",
     "text": [
      "Fluorescence: [0.07936508 0.08058608 0.07936508 0.07936508 0.07936508 0.07936508\n",
      " 0.07936508 0.07936508 0.07936508 0.08058608] mg/m^3\n",
      "Why???????\n",
      "[17.54578755 17.56410256 17.56410256 17.58241758 17.56410256 17.54578755\n",
      " 17.54578755 17.56410256 17.54578755 17.54578755]\n"
     ]
    }
   ],
   "source": [
    "# ???\n",
    "fluroeco_coefs2 = ECOCoefficients()\n",
    "fluroeco_coefs2.slope = 1.000\n",
    "fluroeco_coefs2.offset = 0.000\n",
    "\n",
    "\n",
    "voltages7 = []\n",
    "\n",
    "for hex_string in hexstrings:\n",
    "    v7 = hex_to_voltage(hex_string[51:54])\n",
    "    voltages7.append(v7)\n",
    "    \n",
    "voltages7 = np.array(voltages7)\n",
    "\n",
    "flurometer = convert_eco(voltages7, coefs = fluroeco_coefs2)\n",
    "print(\"Fluorescence:\" , flurometer, \"mg/m^3\")\n",
    "print(\"Why???????\")\n",
    "\n",
    "# Altimeter\n",
    "voltages3 = []\n",
    "\n",
    "for hex_string in hexstrings:\n",
    "    v3 = hex_to_voltage(hex_string[39:42])\n",
    "    voltages3.append(v3)\n",
    "    \n",
    "voltages3 = np.array(voltages3)\n",
    "\n",
    "alt_m = 15.0 * voltages3 + 0.0\n",
    "\n",
    "print(alt_m)"
   ]
  },
  {
   "cell_type": "code",
   "execution_count": 20,
   "id": "7b98fd14-b1fd-4151-b681-5a7f0dda4773",
   "metadata": {},
   "outputs": [
    {
     "name": "stdout",
     "output_type": "stream",
     "text": [
      "[0. 0. 0. 0. 0. 0. 0. 0. 0. 0.]\n"
     ]
    }
   ],
   "source": [
    "# name 17 = flag:  0.000e+00\n",
    "\n",
    "flag = np.zeros_like(hexstrings, dtype=float)\n",
    "print(flag)"
   ]
  },
  {
   "cell_type": "code",
   "execution_count": 21,
   "id": "5291b7dd-6949-40e2-ac51-ffa74cb7a03b",
   "metadata": {},
   "outputs": [
    {
     "name": "stdout",
     "output_type": "stream",
     "text": [
      "Date and Times ['2024-02-08 08:31:24' '2024-02-08 08:31:24' '2024-02-08 08:31:25'\n",
      " '2024-02-08 08:31:25' '2024-02-08 08:31:25' '2024-02-08 08:31:25'\n",
      " '2024-02-08 08:31:25' '2024-02-08 08:31:25' '2024-02-08 08:31:25'\n",
      " '2024-02-08 08:31:25']\n"
     ]
    }
   ],
   "source": [
    "# Date and Time\n",
    "swapped = [\n",
    "    \"\".join([s[-8:][i:i+2] for i in range(0, 8, 2)][::-1])\n",
    "    for s in hexstrings\n",
    "]\n",
    "timestamps = [int(x, 16) for x in swapped]    \n",
    "datetimes = [datetime.fromtimestamp(ts, tz=timezone.utc) for ts in timestamps]\n",
    "datetimes_formatted = np.array([d.strftime(\"%Y-%m-%d %H:%M:%S\") for d in datetimes])\n",
    "print(\"Date and Times\", datetimes_formatted)"
   ]
  },
  {
   "cell_type": "code",
   "execution_count": 22,
   "id": "15b7c585-9d78-4730-a207-e09b123f6483",
   "metadata": {},
   "outputs": [
    {
     "name": "stdout",
     "output_type": "stream",
     "text": [
      "Pressures: [1.14901189 1.19740283 1.19740283 1.14901189 1.25270682 1.19740283\n",
      " 1.19740283 1.14901189 1.19740283 1.24579382] db\n",
      "\n",
      "Temperatures1: [3.56156397 3.56140342 3.56172452 3.56172452 3.56188507 3.56156397\n",
      " 3.56140342 3.56156397 3.56172452 3.56140342] °C\n",
      "\n",
      "Temperatures2: [3.56104427 3.56104427 3.56093531 3.56088084 3.56104427 3.56088084\n",
      " 3.56077188 3.56077188 3.56104427 3.56104427] °C\n",
      "\n",
      "Conductifitys1: [15.3307893  15.33055485 15.33078936 15.33074239 15.3305549  15.33074246\n",
      " 15.33069557 15.33083621 15.33074246 15.33069564] mS/cm\n",
      "\n",
      "Conductifitys2: [15.32989468 15.33007497 15.33002992 15.32989469 15.33007505 15.33002992\n",
      " 15.33002993 15.3299848  15.33002991 15.32998493] mS/cm\n",
      "\n",
      "Oxygens1: [8.12350182 8.12840815 8.12832951 8.12347245 8.12356307 8.12355611\n",
      " 8.12359115 8.12830742 8.12833235 8.12845219] ml/l\n",
      "\n",
      "Oxygens2: [8.12986258 8.12990316 8.12992827 8.12989616 8.12996323 8.12993947\n",
      " 8.12444201 8.12991309 8.12438609 8.12996118] ml/l\n",
      "\n",
      "Oxygens3: [358.3635196  358.58001181 358.57651809 358.36226265 358.36635012\n",
      " 358.36593255 358.36746887 358.57550118 358.57665784 358.58191457] umol/kg\n",
      "\n",
      "Oxygens4: [358.64431987 358.64605787 358.64716327 358.64577657 358.64871212\n",
      " 358.64764884 358.40511542 358.64647918 358.40268922 358.64864886] umol/kg\n",
      "\n",
      "Fluorescence: [0.07936508 0.08058608 0.07936508 0.07936508 0.07936508 0.07936508\n",
      " 0.07936508 0.07936508 0.07936508 0.08058608] mg/m^3\n",
      "\n",
      "Turbidity: [0.52689866 0.52689866 0.53178266 0.55376068 0.56352869 0.56352869\n",
      " 0.5684127  0.60015873 0.61481074 0.61481074] NTU\n",
      "\n",
      "Par: [9.24020531 9.26647434 9.26647434 9.26647434 9.24020531 9.21401003\n",
      " 9.16183989 9.13586462 9.10996228 9.08413265] µmol photons m−2s−1\n",
      "\n",
      "SPar: [366.85335775 366.85335775 366.85335775 366.85335775 366.85335775\n",
      " 366.85335775 366.85335775 366.85335775 366.85335775 366.85335775] µmol photons m−2s−1\n",
      "\n",
      "Time_Elapsed: [0.0, 0.041666666666666664, 0.08333333333333333, 0.125, 0.16666666666666666, 0.20833333333333331, 0.25, 0.29166666666666663, 0.3333333333333333, 0.375] s\n",
      "\n",
      "Salinity1: [15.55212221 15.55192789 15.55203225 15.5519937  15.55168197 15.55205751\n",
      " 15.55208277 15.55217384 15.55198062 15.55206942] PSU\n",
      "\n",
      "Salinity2: [15.5513864  15.55157168 15.55157426 15.55146467 15.55155642 15.55160035\n",
      " 15.55165253 15.55161602 15.55152209 15.55145915] PSU\n",
      "\n",
      "Flag: [0. 0. 0. 0. 0. 0. 0. 0. 0. 0.] \n",
      "\n"
     ]
    }
   ],
   "source": [
    "print(\"Pressures:\", pressure,\"db\\n\")\n",
    "\n",
    "print(\"Temperatures1:\", temperatures1,\"°C\\n\")\n",
    "print(\"Temperatures2:\", temperatures2,\"°C\\n\")\n",
    "\n",
    "print(\"Conductifitys1:\", conductifitys1,\"mS/cm\\n\")\n",
    "print(\"Conductifitys2:\", conductifitys2,\"mS/cm\\n\")\n",
    "\n",
    "print(\"Oxygens1:\", oxygens1,\"ml/l\\n\")\n",
    "print(\"Oxygens2:\", oxygens2,\"ml/l\\n\")\n",
    "print(\"Oxygens3:\", oxygens3,\"umol/kg\\n\")\n",
    "print(\"Oxygens4:\", oxygens4,\"umol/kg\\n\")\n",
    "\n",
    "print(\"Fluorescence:\" , flurometer, \"mg/m^3\\n\")\n",
    "\n",
    "print(\"Turbidity:\", turbidity, \"NTU\\n\")\n",
    "\n",
    "print(\"Par:\", par, \"µmol photons m−2s−1\\n\")\n",
    "print(\"SPar:\", spar, \"µmol photons m−2s−1\\n\")\n",
    "\n",
    "print(\"Time_Elapsed:\", time_elapsed,\"s\\n\")\n",
    "\n",
    "print(\"Salinity1:\", salinitys1,\"PSU\\n\")\n",
    "print(\"Salinity2:\", salinitys2,\"PSU\\n\")\n",
    "print(\"Flag:\", flag,\"\\n\")"
   ]
  },
  {
   "cell_type": "code",
   "execution_count": 23,
   "id": "8936d814-7526-444a-829b-d67d6bb31a81",
   "metadata": {},
   "outputs": [
    {
     "ename": "SyntaxError",
     "evalue": "invalid character '°' (U+00B0) (950467276.py, line 2)",
     "output_type": "error",
     "traceback": [
      "  \u001b[36mCell\u001b[39m\u001b[36m \u001b[39m\u001b[32mIn[23]\u001b[39m\u001b[32m, line 2\u001b[39m\n\u001b[31m    \u001b[39m\u001b[31mname 1 = Temp_1: 3.561563969710619 °C                     --> Richtig\u001b[39m\n                                       ^\n\u001b[31mSyntaxError\u001b[39m\u001b[31m:\u001b[39m invalid character '°' (U+00B0)\n"
     ]
    }
   ],
   "source": [
    "name 0 = Pressure: -42139.332086015915 db                        --> Falsch\n",
    "name 1 = Temp_1: 3.561563969710619 °C                     --> Richtig\n",
    "name 2 = Temp_2: 3.561044266345732 °C                     --> Richtig\n",
    "name 3 = Conductivity_1: 15.330789300015969 mS/cm         --> Richtig\n",
    "name 4 = Conductivity_2: 15.32989468343113 mS/cm          --> Richtig\n",
    "name 5 = Oxygen1: [8.12350182] ml/l                       --> Richtig\n",
    "name 6 = Oxygen2: [8.12986258] ml/l                       --> Richtig\n",
    "name 7 = Oxygen1: [358.3635196] umol/kg                   --> Richtig\n",
    "name 8 = Oxygen2: [358.64431987] umol/kg                  --> Richtig\n",
    "name 9 = flECO-AFL: Fluorescence, WET Labs ECO-AFL/FL [mg/m^3]   --> Richtig\n",
    "name 10 = turbWETntu0: Turbidity, WET Labs ECO [NTU]             --> Richtig\n",
    "name 11 = par: PAR/Irradiance, Biospherical/Licor         --> Richtig\n",
    "name 12 = spar: SPAR, Biospherical/Licor                         --> Richtig\n",
    "name 13 = timeS: Time, Elapsed [seconds]                  --> Richtig\n",
    "\n",
    "name 14 = dz/dtM: Descent Rate [m/s]                            --> Falsch\n",
    "\n",
    "name 15 = Salinity1: 15.5521222127295 PSU                 --> Richtig\n",
    "name 16 = Salinity2: 15.551386401977785 PSU               --> Richtig\n",
    "name 17 = flag:  0.000e+00                                --> Richtig\n",
    "\n",
    "\n",
    "name 0 = Pressure: -42139.332086015915 db                        --> Falsch\n",
    "\n",
    "\n",
    "name 14 = dz/dtM: Descent Rate [m/s]                             --> hängt stark von pressure ab, zu ungenau durch runden bei test_array"
   ]
  },
  {
   "cell_type": "code",
   "execution_count": null,
   "id": "f61cc0eb-0243-4a11-94a5-e2fd25e331ca",
   "metadata": {},
   "outputs": [],
   "source": []
  },
  {
   "cell_type": "code",
   "execution_count": null,
   "id": "2444b7bc-4014-4bc9-8f60-743ca6c85cbc",
   "metadata": {},
   "outputs": [],
   "source": []
  },
  {
   "cell_type": "code",
   "execution_count": null,
   "id": "5ea009c3-42a8-4202-8655-a5767945b73f",
   "metadata": {},
   "outputs": [],
   "source": []
  },
  {
   "cell_type": "code",
   "execution_count": null,
   "id": "48c2c2a2-5c16-4d81-a6c1-83cf2a8918e6",
   "metadata": {},
   "outputs": [],
   "source": []
  }
 ],
 "metadata": {
  "kernelspec": {
   "display_name": "Python 3 (ipykernel)",
   "language": "python",
   "name": "python3"
  },
  "language_info": {
   "codemirror_mode": {
    "name": "ipython",
    "version": 3
   },
   "file_extension": ".py",
   "mimetype": "text/x-python",
   "name": "python",
   "nbconvert_exporter": "python",
   "pygments_lexer": "ipython3",
   "version": "3.13.3"
  }
 },
 "nbformat": 4,
 "nbformat_minor": 5
}
