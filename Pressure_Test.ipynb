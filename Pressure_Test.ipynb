{
 "cells": [
  {
   "cell_type": "code",
   "execution_count": 1,
   "id": "6dbc0226-c320-4797-9b85-bbf0ba2e12c7",
   "metadata": {},
   "outputs": [],
   "source": [
    "import numpy as np\n",
    "from typing import Literal, List"
   ]
  },
  {
   "cell_type": "code",
   "execution_count": 2,
   "id": "fe8e9fe1-7ee0-4290-a7e7-ff35edc4bc53",
   "metadata": {},
   "outputs": [],
   "source": [
    "sea_level_pressure = 14.7\n",
    "PSI_TO_DBAR = 0.6894759\n",
    "DBAR_TO_PSI = 1.450377"
   ]
  },
  {
   "cell_type": "code",
   "execution_count": 3,
   "id": "cdee8f22-ee53-45f0-b6e6-d590add7f933",
   "metadata": {},
   "outputs": [],
   "source": [
    "class PressureCoefficients:\n",
    "    C1: float\n",
    "    C2: float\n",
    "    C3: float\n",
    "    D1: float\n",
    "    D2: float\n",
    "    T1: float\n",
    "    T2: float\n",
    "    T3: float\n",
    "    T4: float\n",
    "    T5: float\n",
    "    Slope: float\n",
    "    Offset: float\n",
    "    AD590M: float\n",
    "    AD590B: float\n",
    "    \n",
    "pres_coefs = PressureCoefficients()\n",
    "pres_coefs.C2 = -1.972709e-001\n",
    "pres_coefs.C3 = 1.365930e-002\n",
    "\n",
    "pres_coefs.D1 = 3.604100e-002\n",
    "pres_coefs.D2 = 0.000000e+000\n",
    "\n",
    "pres_coefs.T1 = 3.046128e+001\n",
    "pres_coefs.T2 = -3.791930e-004\n",
    "pres_coefs.T3 = 4.202260e-006\n",
    "pres_coefs.T4 = 3.386190e-009\n",
    "pres_coefs.T5 = 0.000000e+000\n",
    "\n",
    "pres_coefs.Slope = 1.00000000\n",
    "pres_coefs.Offset = -0.20000\n",
    "pres_coefs.AD590M = 1.279410e-002\n",
    "pres_coefs.AD590B = -9.215740e+000"
   ]
  },
  {
   "cell_type": "code",
   "execution_count": 4,
   "id": "508f415a-3a2b-4cd1-9ca9-010d8079c49f",
   "metadata": {},
   "outputs": [],
   "source": [
    "def pressure_from_frequency(\n",
    "    pressure_counts: np.ndarray, \n",
    "    temp_counts: np.ndarray, \n",
    "    coefs: PressureCoefficients,\n",
    "    units: Literal[\"dbar\", \"psia\"] = \"psia\"\n",
    "):\n",
    "    \"\"\"\n",
    "    Berechnet den Druck [psia] aus Digiquartz-Frequenz und Temperaturcount (arrays erlaubt).\n",
    "\n",
    "    :param freq_hz: gemessene Druckfrequenz [Hz]\n",
    "    :param temp_freq_hz: gemessene Temperaturcount\n",
    "    :param coefs: PressureCoefficients\n",
    "    :return: Druck in psia\n",
    "    \"\"\"\n",
    "\n",
    "    U = coefs.AD590M * temp_counts + coefs.AD590B\n",
    "\n",
    "    C = coefs.C1 + coefs.C2 * U + coefs.C3 * U **2\n",
    "    D = coefs.D1 + coefs.D2 * U\n",
    "    T0 = (\n",
    "        coefs.T1 \n",
    "        + coefs.T2 * U \n",
    "        + coefs.T3 * U **2 \n",
    "        + coefs.T4 * U **3 \n",
    "        + coefs.T5 * U **4\n",
    "    )\n",
    "    # Pressure Periode in µs\n",
    "    T = 10**6 / pressure_counts\n",
    "    \n",
    "    pressure = C * (1 - (T0**2/T**2)) * (1 - D * (1 -(T0**2/T**2)))\n",
    "    pressure = pressure * coefs.Slope + (coefs.Offset * DBAR_TO_PSI) - sea_level_pressure\n",
    "    \n",
    "    if units == \"dbar\":\n",
    "        pressure *= PSI_TO_DBAR\n",
    "    \n",
    "    return pressure"
   ]
  },
  {
   "cell_type": "code",
   "execution_count": 5,
   "id": "d47fb2f2-a0a0-45dc-888b-a9593860dc05",
   "metadata": {},
   "outputs": [
    {
     "name": "stdout",
     "output_type": "stream",
     "text": [
      "Druck in db: [ 1.14901189  1.19740283  1.19740283  1.14901189  1.25270682 23.5767095\n",
      " 23.4858149  23.52829721]\n"
     ]
    }
   ],
   "source": [
    "pressure_count = np.array([32837.55859375, 32837.5859375,  32837.5859375,  32837.55859375, 32837.6171875, 32850.2109375, 32850.1640625, 32850.18359375])  # Druckfreqenz\n",
    "temperature_count = np.array([1238, 1238, 1238, 1238, 1238, 1234, 1235, 1234]) # Druck count\n",
    "\n",
    "pressure = pressure_from_frequency(pressure_count, temperature_count, coefs=pres_coefs, units=\"dbar\")\n",
    "print(\"Druck in db:\",pressure)"
   ]
  }
 ],
 "metadata": {
  "kernelspec": {
   "display_name": "Python 3 (ipykernel)",
   "language": "python",
   "name": "python3"
  },
  "language_info": {
   "codemirror_mode": {
    "name": "ipython",
    "version": 3
   },
   "file_extension": ".py",
   "mimetype": "text/x-python",
   "name": "python",
   "nbconvert_exporter": "python",
   "pygments_lexer": "ipython3",
   "version": "3.13.5"
  }
 },
 "nbformat": 4,
 "nbformat_minor": 5
}
